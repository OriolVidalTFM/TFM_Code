{
  "nbformat": 4,
  "nbformat_minor": 0,
  "metadata": {
    "colab": {
      "name": "TFM - 2018 / 2019",
      "provenance": [],
      "collapsed_sections": [
        "dNd2qeqSQ00N",
        "S9GePmcJeJtQ",
        "JZIyknFv1nKv",
        "Kv_ZROJdyVZi"
      ]
    },
    "kernelspec": {
      "name": "python3",
      "display_name": "Python 3"
    },
    "language_info": {
      "name": "python"
    }
  },
  "cells": [
    {
      "cell_type": "code",
      "source": [
        "import numpy as np\n",
        "import pandas as pd\n",
        "!pip install kmodes"
      ],
      "metadata": {
        "id": "TjRa2byQS3Ie"
      },
      "execution_count": null,
      "outputs": []
    },
    {
      "cell_type": "markdown",
      "source": [
        "# Carrega i neteja de dades d'accidents"
      ],
      "metadata": {
        "id": "a0vm65CbLaTk"
      }
    },
    {
      "cell_type": "markdown",
      "source": [
        "**Import Accidents 1**"
      ],
      "metadata": {
        "id": "pwIHuDO_PEIb"
      }
    },
    {
      "cell_type": "code",
      "source": [
        "#Lectura dels arxius\n",
        "A1_18a=pd.read_csv('/content/2018_accidents_causes_gu_bcn_.csv')\n",
        "A1_19a=pd.read_csv('/content/2019_accidents_causes_gu_bcn_.csv')\n",
        "\n",
        "#S'esborren les columnes no utilitzades dels arxius\n",
        "A1_18b = A1_18a.drop(A1_18a.columns[[1, 3, 5, 6, 7, 8, 16, 18, 19, 20, 21]], axis=1)\n",
        "A1_18b.columns=['Numero_expedient','Districte','Barri','Dia_setmana','Descripcio_tipus_dia','Any','Mes', 'Nom_mes', 'Dia_mes','Hora_dia','Descripcio_causa_mediata']\n",
        "\n",
        "A1_19b = A1_19a.drop(A1_19a.columns[[1, 3, 5, 6, 7, 8, 16, 18, 19, 20, 21]], axis=1)\n",
        "A1_19b.columns=['Numero_expedient','Districte','Barri','Dia_setmana','Descripcio_tipus_dia','Any','Mes', 'Nom_mes', 'Dia_mes','Hora_dia','Descripcio_causa_mediata']\n",
        "\n",
        "#Agrupació de les dades dels tres anys\n",
        "A1 = pd.concat([A1_18b, A1_19b])\n",
        "A1 = A1.drop('Descripcio_tipus_dia', 1)"
      ],
      "metadata": {
        "id": "yTJueUUUPXKc"
      },
      "execution_count": null,
      "outputs": []
    },
    {
      "cell_type": "markdown",
      "source": [
        "**Import Accidents 2**"
      ],
      "metadata": {
        "id": "NoyZrYo4dpp_"
      }
    },
    {
      "cell_type": "code",
      "source": [
        "#Lectura dels arxius\n",
        "A2_18a=pd.read_csv('/content/2018_accidents_persones_gu_bcn_.csv')\n",
        "A2_19a=pd.read_csv('/content/2019_accidents_persones_gu_bcn_.csv')\n",
        "\n",
        "#S'esborren les columnes no utilitzades dels arxius\n",
        "A2_18b = A2_18a.drop(A2_18a.columns[[1, 2, 3, 4, 5, 6, 7, 8, 9, 10, 11, 12, 13, 14, 15, 16, 17, 24, 25, 26, 27, 28, 29, 30, 31]], axis=1)\n",
        "\n",
        "A2_19b = A2_19a.drop(A2_19a.columns[[1, 2, 3, 4, 5, 6, 7, 8, 9, 10, 11, 12, 13, 14, 15, 16, 17, 23, 24, 26, 27, 28, 29, 30, 31, 32, 33]], axis=1)\n",
        "A2_19b.columns=['Numero_expedient','Desc_Tipus_vehicle_implicat','Descripcio_sexe','Edat','Descripcio_tipus_persona','Descripcio_situacio','Descripcio_victimitzacio']\n",
        "\n",
        "#Agrupació de les dades dels tres anys\n",
        "A2 = pd.concat([A2_18b, A2_19b])\n",
        "\n",
        "#Canvi de l'edat d'aquelles victimes de les que no es disposa\n",
        "#A2[\"Edat\"] = A2[\"Edat\"].str.replace(\"-1\", \" \")\n",
        "\n",
        "#Canvi de les descripcions de la gravetat del accident sobre cada persona implicada per poder relacionar l'accident amb l'implicat que ha tingut les conseqüències més greus\n",
        "A2[\"Descripcio_victimitzacio\"] = A2[\"Descripcio_victimitzacio\"].str.replace(\"Desconegut\", \"0. Desconegut\")\n",
        "A2[\"Descripcio_victimitzacio\"] = A2[\"Descripcio_victimitzacio\"].str.replace(\"Es desconeix\", \"0. Desconegut\")\n",
        "A2[\"Descripcio_victimitzacio\"] = A2[\"Descripcio_victimitzacio\"].str.replace(\"Il.les\", \"1. Indemne\")\n",
        "A2[\"Descripcio_victimitzacio\"] = A2[\"Descripcio_victimitzacio\"].str.replace(\" 1. Indemne\", \"1. Indemne\")\n",
        "A2[\"Descripcio_victimitzacio\"] = A2[\"Descripcio_victimitzacio\"].str.replace(\"Ferit lleu: Rebutja assistència sanitària\", \"1. Lleu\")\n",
        "A2[\"Descripcio_victimitzacio\"] = A2[\"Descripcio_victimitzacio\"].str.replace(\"Ferit lleu: Rebutja assistčncia sanitŕria\", \"1. Lleu\")\n",
        "A2[\"Descripcio_victimitzacio\"] = A2[\"Descripcio_victimitzacio\"].str.replace(\"Ferit lleu: Amb assistència sanitària en lloc d'accident\", \"2. Assistencia\")\n",
        "A2[\"Descripcio_victimitzacio\"] = A2[\"Descripcio_victimitzacio\"].str.replace(\"Ferit lleu: Amb assistencia sanitaria en lloc d'accident\", \"2. Assistencia\")\n",
        "A2[\"Descripcio_victimitzacio\"] = A2[\"Descripcio_victimitzacio\"].str.replace(\"Ferit lleu: Hospitalització fins a 24h\", \"3. Hospitalitzat\")\n",
        "A2[\"Descripcio_victimitzacio\"] = A2[\"Descripcio_victimitzacio\"].str.replace(\"Ferit greu: hospitalització superior a 24h\", \"4. Greu\")\n",
        "A2[\"Descripcio_victimitzacio\"] = A2[\"Descripcio_victimitzacio\"].str.replace(\"Mort\", \"5. Mort\")\n",
        "A2.fillna('', inplace=True)\n",
        "\n",
        "#Merge dels arxius d'accidents 1 i 2\n",
        "Merge1=pd.merge(A1, A2, on='Numero_expedient', how='outer')\n",
        "\n",
        "#Es defineix el Número d'expedient com a índex\n",
        "MergeI1=Merge1.set_index('Numero_expedient')\n",
        "\n",
        "#S'ordena de menys a més gravetat de l'accident (s'ordena segons el nom)\n",
        "MergeI1 = MergeI1.sort_values(by ='Descripcio_victimitzacio')\n",
        "\n",
        "#S'esborren els duplicats, mantenint l'ultim (el més greu)\n",
        "Merge1 = MergeI1[~MergeI1.index.duplicated(keep='last')]"
      ],
      "metadata": {
        "id": "wDQsOwUUQI0V"
      },
      "execution_count": null,
      "outputs": []
    },
    {
      "cell_type": "markdown",
      "source": [
        "**Import Accidents 3**"
      ],
      "metadata": {
        "id": "IfO-egU8ZT9Z"
      }
    },
    {
      "cell_type": "code",
      "source": [
        "#Lectura dels arxius\n",
        "A3_18a=pd.read_csv('/content/2018_accidents_tipus_gu_bcn_tip.csv')\n",
        "A3_19a=pd.read_csv('/content/2019_accidents_tipus_gu_bcn_tip.csv')\n",
        "\n",
        "#S'esborren les columnes no utilitzades dels arxius\n",
        "A3_18b = A3_18a.drop(A3_18a.columns[[1, 2, 3, 4, 5, 6, 7, 8, 9, 10, 11, 12, 13, 14, 15, 16, 18, 19, 20, 21]], axis=1)\n",
        "A3_18b.columns=['Numero_expedient','Tipus_accident']\n",
        "\n",
        "A3_19b = A3_19a.drop(A3_19a.columns[[1, 2, 3, 4, 5, 6, 7, 8, 9, 10, 11, 12, 13, 14, 15, 16, 18, 19, 20, 21]], axis=1)\n",
        "A3_19b.columns=['Numero_expedient','Tipus_accident']\n",
        "\n",
        "#Agrupació de les dades dels tres anys\n",
        "A3 = pd.concat([A3_18b, A3_19b])\n",
        "\n",
        "#Merge dels arxius d'accidents Merge 1 i accidents 3\n",
        "Merge2=pd.merge(Merge1, A3, on='Numero_expedient', how='outer')"
      ],
      "metadata": {
        "id": "qRSRqtbSZW6q"
      },
      "execution_count": null,
      "outputs": []
    },
    {
      "cell_type": "markdown",
      "source": [
        "**Import Accidents 4**"
      ],
      "metadata": {
        "id": "ZLqtgzuGmvzl"
      }
    },
    {
      "cell_type": "code",
      "source": [
        "#Lectura dels arxius\n",
        "A4_18a=pd.read_csv('/content/2018_accidents_vehicles_gu_bcn_.csv')\n",
        "A4_19a=pd.read_csv('/content/2019_accidents_vehicles_gu_bcn_.csv')\n",
        "\n",
        "#S'esborren les columnes no utilitzades dels arxius\n",
        "A4_18b = A4_18a.drop(A4_18a.columns[[1, 2, 3, 4, 5, 6, 7, 8, 9, 10, 11, 12, 13, 14, 15, 16, 18, 24, 25, 26, 27, 28]], axis=1)\n",
        "A4_18b.columns=['Numero_expedient','Descripcio_causa_vianant', 'Descripcio_model', 'Descripcio_marca', 'Descripcio_color', 'Descripcio_carnet', 'Antiguetat_carnet']\n",
        "\n",
        "A4_19b = A4_19a.drop(A4_19a.columns[[1, 2, 3, 4, 5, 6, 7, 8, 9, 10, 11, 12, 13, 14, 15, 16, 18, 24, 25, 26, 27, 28]], axis=1)\n",
        "A4_19b.columns=['Numero_expedient','Descripcio_causa_vianant', 'Descripcio_model', 'Descripcio_marca', 'Descripcio_color', 'Descripcio_carnet', 'Antiguetat_carnet']\n",
        "\n",
        "#Agrupació de les dades dels tres anys\n",
        "A4 = pd.concat([A4_18b, A4_19b])\n",
        "\n",
        "#Dels accidents que tenen més d'un vehicle, es queda amb un dels vehicles, s'identifiquen les files a esborrar i s'eliminen. \n",
        "MVI = A4.duplicated(subset=['Numero_expedient'],keep=False) #Taula per distingir els accidents múltiples \n",
        "MVI1 = A4.duplicated(subset=['Numero_expedient'],keep='last') #Taula amb un vehicle per accident\n",
        "MVI = MVI.astype(str)\n",
        "MVI1 = MVI1.astype(str)\n",
        "\n",
        "#S'afegeixen les columnes creades a la taula\n",
        "A4['Multiples vehicles implicats'] = MVI\n",
        "A4['Multiples vehicles implicats 1'] = MVI1\n",
        "\n",
        "#S'eliminen les columnes de vehicles involucrats en accidents múltiples no seleccionats\n",
        "A4[\"Multiples vehicles implicats 1\"].str.contains(\"True\") == False\n",
        "\n",
        "#S'ajunta la taula amb la taula anterior Merge2\n",
        "Merge3 = pd.merge(Merge2, A4, on='Numero_expedient', how='outer')\n",
        "Merge3=Merge3.set_index('Numero_expedient')\n",
        "\n",
        "#S'elimina la columna utilitzada per seleccionar un vehicle per accident\n",
        "Merge3 = Merge3.iloc[: , :-1]"
      ],
      "metadata": {
        "id": "5_HhUJrlmxUf"
      },
      "execution_count": null,
      "outputs": []
    },
    {
      "cell_type": "markdown",
      "source": [
        "**Import Accidents 5**"
      ],
      "metadata": {
        "id": "vKtKEaz702vM"
      }
    },
    {
      "cell_type": "code",
      "source": [
        "#Lectura dels arxius\n",
        "A5_18a=pd.read_csv('/content/2018_accidents_gu_bcn.csv')\n",
        "A5_19a=pd.read_csv('/content/2019_accidents_gu_bcn.csv')\n",
        "\n",
        "#S'esborren les columnes no utilitzades dels arxius\n",
        "A5_18b = A5_18a.drop(A5_18a.columns[[1, 2, 3, 4, 5, 6, 7, 8, 9, 10, 11, 12, 13, 14, 15, 16, 17, 23, 24, 25, 26]], axis=1)\n",
        "A5_18b.columns=['Numero_expedient','Numero_morts', 'Numero_lesionats_lleus', 'Numero_lesionats_greus', 'Numero_victimes', 'Numero_vehicles_implicats']\n",
        "\n",
        "A5_19b = A5_19a.drop(A5_19a.columns[[1, 2, 3, 4, 5, 6, 7, 8, 9, 10, 11, 12, 13, 14, 15, 16, 17, 23, 24, 25, 26, 27, 28]], axis=1)\n",
        "A5_19b.columns=['Numero_expedient','Numero_morts', 'Numero_lesionats_lleus', 'Numero_lesionats_greus', 'Numero_victimes', 'Numero_vehicles_implicats']\n",
        "\n",
        "#Agrupació de les dades dels tres anys\n",
        "A5 = pd.concat([A5_18b, A5_19b])\n",
        "\n",
        "#S'ajunta la taula amb la taula anterior Merge3\n",
        "Merge4 = pd.merge(Merge3, A5, on='Numero_expedient', how='outer')\n",
        "\n",
        "#S'elimina els duplicats segons el Número d'expedient\n",
        "Merge4=Merge4.drop_duplicates(subset=['Numero_expedient'])\n",
        "\n",
        "#S'elimina la última fila\n",
        "Merge4.drop(Merge4.tail(1).index,inplace=True)\n",
        "\n",
        "#Es canvia el format de les columnes dia, passant el número a string\n",
        "Merge4['Any'] = Merge4['Any'].astype(int)\n",
        "Merge4['Mes'] = Merge4['Mes'].astype(int)\n",
        "Merge4['Dia_mes'] = Merge4['Dia_mes'].astype(int)\n",
        "\n",
        "#Es canvia el format de les columnes dia, mes i any a string\n",
        "Merge4['Any'] = Merge4['Any'].astype(str)\n",
        "Merge4['Mes'] = Merge4['Mes'].astype(str)\n",
        "Merge4['Dia_mes'] = Merge4['Dia_mes'].astype(str)\n",
        "\n",
        "#Es crea una nova columna, calendari, per poder avaluar el dia del accident i definir si era dia festiu\n",
        "Merge4[\"Calendari\"] = Merge4[\"Mes\"]  + \"/\" +Merge4[\"Dia_mes\"]  +\"/\"+ Merge4[\"Any\"]\n",
        "\n",
        "#Canvi del format de les dades Calendari i lectura de l'arxiu de dies festius\n",
        "Merge4['Calendari'] = Merge4['Calendari'].astype(str)\n",
        "Festius=pd.read_csv('/content/Festius.csv')\n",
        "\n",
        "#Es converteixen les columnes de dates a format Datetime \n",
        "Merge4['Calendari']= pd.to_datetime(Merge4['Calendari'])\n",
        "Festius['Festius']= pd.to_datetime(Festius['Festius'])\n",
        "\n",
        "#Es busquen els dies al document Festius que corresponen a un festiu\n",
        "Merge4[\"Festiu1\"] = Merge4[\"Calendari\"].isin(Festius[\"Festius\"])\n",
        "\n",
        "#Es converteix l columna d'hores a format número \n",
        "Merge4['Hora_dia'] = Merge4['Hora_dia'].astype(int)\n",
        "\n",
        "#Es defineixen els 8 torns del dia\n",
        "Merge4.loc[Merge4.Hora_dia < 24, \"Torn\"] = \"Nit\" \n",
        "Merge4.loc[Merge4.Hora_dia < 22, \"Torn\"] = \"Vespre\" #de 18h a 21h\n",
        "Merge4.loc[Merge4.Hora_dia < 18, \"Torn\"] = \"Tarda\" #de 14h a 17h\n",
        "Merge4.loc[Merge4.Hora_dia < 14, \"Torn\"] = \"Migdia\" #de 10h a 13h\n",
        "Merge4.loc[Merge4.Hora_dia < 10, \"Torn\"] = \"Matí\" #de 06h a 09h\n",
        "Merge4.loc[Merge4.Hora_dia < 6, \"Torn\"] = \"Mitjanit\" #de 02h a 05h\n",
        "Merge4.loc[Merge4.Hora_dia < 2, \"Torn\"] = \"Nit\" #de 22h a 01h\n",
        "\n",
        "#Es llegeixen els arxius que contenen els dies previs a un festiu i que no són festiu\n",
        "Prefestiu=pd.read_csv('/content/Prefestiu.csv')\n",
        "\n",
        "#Es llegeixen els arxius que contenen els dies previs a un laborable i que no són laborable\n",
        "Prelaborable=pd.read_csv('/content/Prelaborable.csv')\n",
        "\n",
        "#Es creen dues columnes més al arxiu Merge4 per definir si l'accident s'ha produït un dia previ a festiu o laborable\n",
        "Merge4[\"Prefestiu\"] = Merge4[\"Calendari\"].isin(Prefestiu[\"Dies\"])\n",
        "Merge4[\"Prelaborable\"] = Merge4[\"Calendari\"].isin(Prelaborable[\"Dies\"])\n",
        "\n",
        "#Es defineixen tots els dies com no festiu\n",
        "Merge4['Festiu'] = 'No festiu'\n",
        "\n",
        "#Amb la columna auxiliar Festiu1, es troba i defineix com \"Festiu\" a la columna \"Festiu\" els dies festius que no són dissabte o diumenge\n",
        "Merge4.loc[Merge4.Festiu1==True, \"Festiu\"] = \"Festiu\"\n",
        "\n",
        "#Revisió de les nits abans d'un dia festiu i que no és laborable\n",
        "Merge4.loc[(Merge4['Torn'] == 'Nit') & (Merge4['Hora_dia'] >=22) & (Merge4['Prefestiu'] ==True), 'Festiu'] = 'Festiu'\n",
        "\n",
        "#Si és dissabte o diumenge, és festiu\n",
        "Merge4.loc[(Merge4['Dia_setmana'] == 'Ds') | (Merge4['Dia_setmana'] == 'Dg'), 'Festiu'] = 'Festiu'\n",
        "\n",
        "#Revisió de les nits abans d'un dia laborable i que no és festiu\n",
        "Merge4.loc[(Merge4['Torn'] == 'Nit') & (Merge4['Hora_dia'] >=22) & (Merge4['Prelaborable'] == True), 'Festiu'] = 'No festiu'\n",
        "\n",
        "#NOVA COLUMNA, CALENDARI1, PER RELACIONAR ELS ACCIDENTS AMB LES DADES DE TRANSIT\n",
        "#Convertir els valors, actualment string, de columnes Any, Mes i Dia_mes a int\n",
        "Merge4['Any'] = Merge4['Any'].astype(int)\n",
        "Merge4['Mes'] = Merge4['Mes'].astype(int)\n",
        "Merge4['Dia_mes'] = Merge4['Dia_mes'].astype(int)\n",
        "\n",
        "#Els valors anteriors tinguin format de dues xifres\n",
        "Merge4['Hora_dia'] = Merge4.Hora_dia.map(\"{:02}\".format)\n",
        "Merge4['Dia_mes'] = Merge4.Dia_mes.map(\"{:02}\".format)\n",
        "Merge4['Mes'] = Merge4.Mes.map(\"{:02}\".format)\n",
        "\n",
        "#Conversió dels valors a string\n",
        "Merge4['Any'] = Merge4['Any'].astype(str)\n",
        "Merge4['Mes'] = Merge4['Mes'].astype(str)\n",
        "Merge4['Dia_mes'] = Merge4['Dia_mes'].astype(str)\n",
        "Merge4['Hora_dia'] = Merge4['Hora_dia'].astype(str)\n",
        "\n",
        "#Creació d'una nova columna, Calendari1, per relacionar amb les dades de transit\n",
        "Merge4[\"Calendari1\"] = Merge4[\"Any\"] + \"/\" + Merge4[\"Mes\"] +\"/\"+ Merge4[\"Dia_mes\"] + \"/\" + Merge4[\"Hora_dia\"]\n",
        "#Merge4['Calendari1'] = Merge4['Calendari1'].astype(str)\n",
        "#Merge4['Calendari1']= pd.to_datetime(Merge4['Calendari1'])\n",
        "\n",
        "#S'eliminen les columnes auxiliars utilitzades\n",
        "Merge4 = Merge4.drop('Calendari', 1)\n",
        "Merge4 = Merge4.drop('Festiu1', 1)\n",
        "Merge4 = Merge4.drop('Dia_setmana', 1)\n",
        "Merge4 = Merge4.drop('Dia_mes', 1)\n",
        "Merge4 = Merge4.drop('Mes', 1)\n",
        "Merge4 = Merge4.drop('Hora_dia', 1)\n",
        "Merge4 = Merge4.drop('Prefestiu', 1)\n",
        "Merge4 = Merge4.drop('Prelaborable', 1)\n"
      ],
      "metadata": {
        "id": "UkR1vUkc04fL"
      },
      "execution_count": null,
      "outputs": []
    },
    {
      "cell_type": "markdown",
      "source": [
        "# Dades meteorològiques"
      ],
      "metadata": {
        "id": "R7eUx_UW7kF7"
      }
    },
    {
      "cell_type": "code",
      "source": [
        "data1 = pd.read_csv(\"Dades_meteorol_giques_de_la_XEMA.csv\") \n",
        "total = pd.DataFrame(columns=[\"Calendari1\",\"ANY\",\"MES\",\"DIA\", \"HORA\",\"MINUTS\"])\n",
        "data1 = pd.concat([total,data1])\n",
        "data1['ANY'] = data1['ANY'].astype(str)\n",
        "n0=0\n",
        "while n0<len(data1):\n",
        "    st=data1.at[n0,\"DATA_LECTURA\"]\n",
        "\n",
        "    data1.at[n0,\"ANY\"]=st[6:10]\n",
        "    data1.at[n0,\"MES\"]=st[3:5]\n",
        "    data1.at[n0,\"DIA\"]=st[0:2]\n",
        "    data1.at[n0,\"HORA\"]=st[11:13]\n",
        "    data1.at[n0,\"MINUTS\"]=st[14:16]\n",
        "\n",
        "    data1.at[n0,\"Calendari1\"]=st[6:10] +\"/\"+ st[3:5] +\"/\"+ st[0:2] +\"/\"+ st[11:13]\n",
        "    n0=n0+1\n",
        "display(data1)"
      ],
      "metadata": {
        "id": "wS2NgOJB7vW9"
      },
      "execution_count": null,
      "outputs": []
    },
    {
      "cell_type": "code",
      "source": [
        "data1= pd.read_excel(\"data1.xlsx\")\n",
        "data1 = data1.drop('MINUTS', 1)\n",
        "data2=data1.copy()\n",
        "data2.drop(data2.columns.difference(['Calendari1']), 1, inplace=True)\n",
        "data2=data2.set_index(\"Calendari1\")\n",
        "data2 = data2[~data2.index.duplicated(keep='first')]\n",
        "display(data1)\n",
        "data1['VALOR_LECTURA'] = data1['VALOR_LECTURA'].astype(float)\n",
        "data1['VALOR_LECTURA'].round(1)\n",
        "\n",
        "data2[[\"03.TM\",\"04.TX\",\"05.TN\",\"06.HRM\",\"07.PPT24H\",\"08.HPA\",\"09.RS24H\",\"10.VVM10\",\"11.DVM10\",\"12.VVX10\",\"13.DVX10\"]]=0\n",
        "data2[[\"03.TM\",\"04.TX\",\"05.TN\",\"06.HRM\",\"07.PPT24H\",\"08.HPA\",\"09.RS24H\",\"10.VVM10\",\"11.DVM10\",\"12.VVX10\",\"13.DVX10\"]]=data2[[\"03.TM\",\"04.TX\",\"05.TN\",\"06.HRM\",\"07.PPT24H\",\"08.HPA\",\"09.RS24H\",\"10.VVM10\",\"11.DVM10\",\"12.VVX10\",\"13.DVX10\"]].apply(pd.to_numeric)\n",
        "\n",
        "n0=0\n",
        "while n0<len(data1):\n",
        "  XX=data1.at[n0,\"Calendari1\"]\n",
        "  if data1.at[n0,\"CODI_VARIABLE\"]==32:\n",
        "    data2.at[XX,\"03.TM\"]=data2.at[XX,\"03.TM\"]\n",
        "    data2['03.TM'] = data2['03.TM'].astype(float)\n",
        "    data2.at[XX,\"03.TM\"]=data1.at[n0,\"VALOR_LECTURA\"]\n",
        "\n",
        "  if data1.at[n0,\"CODI_VARIABLE\"]==40:\n",
        "    data2['04.TX'] = data2['04.TX'].astype(float)\n",
        "    data2.at[XX,\"04.TX\"]=data1.at[n0,\"VALOR_LECTURA\"]\n",
        "\n",
        "  if data1.at[n0,\"CODI_VARIABLE\"]==42:\n",
        "    data2['05.TN'] = data2['05.TN'].astype(float)\n",
        "    data2.at[XX,\"05.TN\"]=data1.at[n0,\"VALOR_LECTURA\"]\n",
        "\n",
        "  if data1.at[n0,\"CODI_VARIABLE\"]==33:\n",
        "    data2['06.HRM'] = data2['06.HRM'].astype(float)\n",
        "    data2.at[XX,\"06.HRM\"]=data1.at[n0,\"VALOR_LECTURA\"]\n",
        "\n",
        "  if data1.at[n0,\"CODI_VARIABLE\"]==35:\n",
        "    data2['07.PPT24H'] = data2['07.PPT24H'].astype(float)\n",
        "    data2.at[XX,\"07.PPT24H\"]=data1.at[n0,\"VALOR_LECTURA\"]\n",
        "\n",
        "  if data1.at[n0,\"CODI_VARIABLE\"]==34:\n",
        "    data2['08.HPA'] = data2['08.HPA'].astype(float)\n",
        "    data2.at[XX,\"08.HPA\"]=data1.at[n0,\"VALOR_LECTURA\"]\n",
        "    \n",
        "  if data1.at[n0,\"CODI_VARIABLE\"]==36:\n",
        "    data2['09.RS24H'] = data2['09.RS24H'].astype(float)\n",
        "    data2.at[XX,\"09.RS24H\"]=data1.at[n0,\"VALOR_LECTURA\"]\n",
        "\n",
        "  if data1.at[n0,\"CODI_VARIABLE\"]==30:\n",
        "    data2['10.VVM10'] = data2['10.VVM10'].astype(float)\n",
        "    data2.at[XX,\"10.VVM10\"]=data1.at[n0,\"VALOR_LECTURA\"]\n",
        "\n",
        "  if data1.at[n0,\"CODI_VARIABLE\"]==31:\n",
        "    data2['11.DVM10'] = data2['11.DVM10'].astype(float)\n",
        "    data2.at[XX,\"11.DVM10\"]=data1.at[n0,\"VALOR_LECTURA\"]\n",
        "\n",
        "  if data1.at[n0,\"CODI_VARIABLE\"]==50:\n",
        "    data2['12.VVX10'] = data2['12.VVX10'].astype(float)\n",
        "    data2.at[XX,\"12.VVX10\"]=data1.at[n0,\"VALOR_LECTURA\"]\n",
        "\n",
        "  if data1.at[n0,\"CODI_VARIABLE\"]==51:\n",
        "    data2['13.DVX10'] = data2['13.DVX10'].astype(float)\n",
        "    data2.at[XX,\"13.DVX10\"]=data1.at[n0,\"VALOR_LECTURA\"]\n",
        "  n0=n0+1"
      ],
      "metadata": {
        "id": "47E2Oevf7jKy"
      },
      "execution_count": null,
      "outputs": []
    },
    {
      "cell_type": "code",
      "source": [
        "data2= pd.read_csv(\"data2.csv\")"
      ],
      "metadata": {
        "id": "lw1oYb4o-1uy"
      },
      "execution_count": null,
      "outputs": []
    },
    {
      "cell_type": "code",
      "source": [
        "Merge4m=[]\n",
        "Merge4m = pd.merge(Merge4, data2, on='Calendari1', how='left')"
      ],
      "metadata": {
        "id": "5KDh8N6x8TV-"
      },
      "execution_count": null,
      "outputs": []
    },
    {
      "cell_type": "code",
      "source": [
        "A1.to_excel('A1.xlsx')"
      ],
      "metadata": {
        "id": "95zTlQ3IAEwX"
      },
      "execution_count": null,
      "outputs": []
    },
    {
      "cell_type": "markdown",
      "source": [
        "# Dades de trànsit\n",
        "\n",
        "Creació del llistat de tots els possibles períodes de temps del mes.\n",
        "\n",
        "\n"
      ],
      "metadata": {
        "id": "ObfWxOwXQ8qN"
      }
    },
    {
      "cell_type": "code",
      "source": [
        "#paràmetres, modificar per cada mes de cada any\n",
        "month_inicial=([\"04\"])\n",
        "days_total=30\n",
        "input=\"2020_04_Abril_TRAMS_TRAMS.csv\"\n",
        "output=\"MES04.csv\"\n",
        " \n",
        "#Assignació del mes\n",
        "months=(month_inicial)\n",
        "   \n",
        "#Es crea una llista variable amb els dies\n",
        "days = [] ; n = days_total; m=1\n",
        "for i in range(int(n)): \n",
        "    days2=[m]; days = days+days2; m=m+1\n",
        "days=tuple(days)\n",
        "\n",
        "#Llista variable de les hores\n",
        "hours = [] ; n = 24 ; m=0\n",
        "for i in range(int(n)): \n",
        "    hours2=[m]; hours = hours+hours2; m=m+1\n",
        "hour=tuple(hours)\n",
        "\n",
        "#Es crea un nou dataframe\n",
        "data2 = pd.DataFrame({\"Calendari1\":\"\",\"Numero_dades\":0,\"State_total\":0,\"Estat_mitja\":0},index =[0])  \n",
        "\n",
        "#Creació de les files\n",
        "n2=0\n",
        "for month in months:\n",
        "    for day in days:\n",
        "        for hour in hours:\n",
        "            month2=\"{:02}\".format(int(month)); day2=\"{:02}\".format(int(day)); hour2=\"{:02}\".format(int(hour))         \n",
        "            data2.at[n2,\"Calendari1\"]=\"2020\"+\"/\"+ month2 +\"/\"+ day2 +\"/\"+ hour2\n",
        "            data2.at[n2,\"Numero_dades\"]=0; data2.at[n2,\"State_total\"]=0; data2.at[n2,\"Estat_mitja\"]=0\n",
        "            n2=n2+1\n",
        "\n",
        "#S'estableix l'index\n",
        "data2=data2.set_index(\"Calendari1\")\n",
        "\n",
        "#Noves columnes i transformació de les dades tractades\n",
        "data1 = pd.read_csv(input)\n",
        "total = pd.DataFrame(columns=[\"idTram\",\"data\",\"estatActual\",\"estatPrevist\",\"ANY\",\"MES\",\"DIA\",\"HORA\"])\n",
        "d1 = pd.read_csv(\"STRUCTURE.csv\")\n",
        "data1 = pd.concat([total,data1])\n",
        "\n",
        "#Assignació dels valors de calendari\n",
        "n0=0\n",
        "while n0<len(data1):\n",
        "    st=str(data1.at[n0,\"data\"])\n",
        "    data1.at[n0,\"ANY\"]=\"2020\"\n",
        "    data1.at[n0,\"MES\"]=st[4:6]\n",
        "    data1.at[n0,\"DIA\"]=st[6:8]\n",
        "    data1.at[n0,\"HORA\"]=st[8:10]\n",
        "\n",
        "#Els valors \"6\" es transformen a zero\n",
        "    if (data1.at[n0,\"estatActual\"]>5):\n",
        "        data1.at[n0,\"estatActual\"]=0\n",
        "    n0=n0+1\n",
        "\n",
        "#S'afegeix el nº d'observacions i la suma dels estats per cada període\n",
        "n1=0\n",
        "while n1<len(data1):\n",
        "    if data1.at[n1,\"estatActual\"]>0:\n",
        "        year1=\"{:02}\".format(int(data1.at[n1,\"ANY\"]))\n",
        "        month1=\"{:02}\".format(int(data1.at[n1,\"MES\"]))\n",
        "        day1=\"{:02}\".format(int(data1.at[n1,\"DIA\"]))\n",
        "        hour1=\"{:02}\".format(int(data1.at[n1,\"HORA\"]))\n",
        "        Element_indicator1=year1 +\"/\"+ month1 +\"/\"+ day1 +\"/\"+ hour1\n",
        "        data2.at[Element_indicator1,\"Numero_dades\"]=data2.at[Element_indicator1,\"Numero_dades\"]+1\n",
        "        data2.at[Element_indicator1,\"State_total\"]=data2.at[Element_indicator1,\"State_total\"]+data1.at[n1,\"estatActual\"]\n",
        "    n1=n1+1\n",
        "       \n",
        "#Calcul de la densitat mitjana a cada període\n",
        "for Element in data2.index.tolist():\n",
        "    if data2.at[Element,\"Numero_dades\"]>0:\n",
        "        data2.at[Element,\"Estat_mitja\"]=\"{:.8f}\".format(data2.at[Element,\"State_total\"]/data2.at[Element,\"Numero_dades\"]) \n",
        "    else:\n",
        "        data2.at[Element,\"Estat_mitja\"]=0 \n",
        "\n",
        "#S'elimina la columna\n",
        "data2=data2.drop(\"State_total\", axis=1)\n",
        "\n",
        "#Conversió a .csv per tractament posterior\n",
        "data2.to_csv(output)"
      ],
      "metadata": {
        "id": "Hvz897w9Q87V",
        "colab": {
          "base_uri": "https://localhost:8080/"
        },
        "outputId": "e837f8a3-d9b3-45ff-a81e-e2902b8d3b15"
      },
      "execution_count": null,
      "outputs": [
        {
          "output_type": "execute_result",
          "data": {
            "text/plain": [
              "'\\n#paràmetres, modificar per cada mes de cada any\\nmonth_inicial=([\"04\"])\\ndays_total=30\\ninput=\"2020_04_Abril_TRAMS_TRAMS.csv\"\\noutput=\"MES04.csv\"\\n \\n#Assignació del mes\\nmonths=(month_inicial)\\n   \\n#Es crea una llista variable amb els dies\\ndays = [] ; n = days_total; m=1\\nfor i in range(int(n)): \\n    days2=[m]; days = days+days2; m=m+1\\ndays=tuple(days)\\n\\n#Llista variable de les hores\\nhours = [] ; n = 24 ; m=0\\nfor i in range(int(n)): \\n    hours2=[m]; hours = hours+hours2; m=m+1\\nhour=tuple(hours)\\n\\n#Es crea un nou dataframe\\ndata2 = pd.DataFrame({\"Calendari1\":\"\",\"Numero_dades\":0,\"State_total\":0,\"Estat_mitja\":0},index =[0])  \\n\\n#Creació de les files\\nn2=0\\nfor month in months:\\n    for day in days:\\n        for hour in hours:\\n            month2=\"{:02}\".format(int(month)); day2=\"{:02}\".format(int(day)); hour2=\"{:02}\".format(int(hour))         \\n            data2.at[n2,\"Calendari1\"]=\"2020\"+\"/\"+ month2 +\"/\"+ day2 +\"/\"+ hour2\\n            data2.at[n2,\"Numero_dades\"]=0; data2.at[n2,\"State_total\"]=0; data2.at[n2,\"Estat_mitja\"]=0\\n            n2=n2+1\\n\\n#S\\'estableix l\\'index\\ndata2=data2.set_index(\"Calendari1\")\\n\\n#Noves columnes i transformació de les dades tractades\\ndata1 = pd.read_csv(input)\\ntotal = pd.DataFrame(columns=[\"idTram\",\"data\",\"estatActual\",\"estatPrevist\",\"ANY\",\"MES\",\"DIA\",\"HORA\"])\\nd1 = pd.read_csv(\"STRUCTURE.csv\")\\ndata1 = pd.concat([total,data1])\\n\\n#Assignació dels valors de calendari\\nn0=0\\nwhile n0<len(data1):\\n    st=str(data1.at[n0,\"data\"])\\n    data1.at[n0,\"ANY\"]=\"2020\"\\n    data1.at[n0,\"MES\"]=st[4:6]\\n    data1.at[n0,\"DIA\"]=st[6:8]\\n    data1.at[n0,\"HORA\"]=st[8:10]\\n\\n#Els valors \"6\" es transformen a zero\\n    if (data1.at[n0,\"estatActual\"]>5):\\n        data1.at[n0,\"estatActual\"]=0\\n    n0=n0+1\\n\\n#S\\'afegeix el nº d\\'observacions i la suma dels estats per cada període\\nn1=0\\nwhile n1<len(data1):\\n    if data1.at[n1,\"estatActual\"]>0:\\n        year1=\"{:02}\".format(int(data1.at[n1,\"ANY\"]))\\n        month1=\"{:02}\".format(int(data1.at[n1,\"MES\"]))\\n        day1=\"{:02}\".format(int(data1.at[n1,\"DIA\"]))\\n        hour1=\"{:02}\".format(int(data1.at[n1,\"HORA\"]))\\n        Element_indicator1=year1 +\"/\"+ month1 +\"/\"+ day1 +\"/\"+ hour1\\n        data2.at[Element_indicator1,\"Numero_dades\"]=data2.at[Element_indicator1,\"Numero_dades\"]+1\\n        data2.at[Element_indicator1,\"State_total\"]=data2.at[Element_indicator1,\"State_total\"]+data1.at[n1,\"estatActual\"]\\n    n1=n1+1\\n       \\n#Calcul de la densitat mitjana a cada període\\nfor Element in data2.index.tolist():\\n    if data2.at[Element,\"Numero_dades\"]>0:\\n        data2.at[Element,\"Estat_mitja\"]=\"{:.8f}\".format(data2.at[Element,\"State_total\"]/data2.at[Element,\"Numero_dades\"]) \\n    else:\\n        data2.at[Element,\"Estat_mitja\"]=0 \\n\\n#S\\'elimina la columna\\ndata2=data2.drop(\"State_total\", axis=1)\\n\\n#Conversió a .csv per tractament posterior\\ndata2.to_csv(output)\\n'"
            ],
            "application/vnd.google.colaboratory.intrinsic+json": {
              "type": "string"
            }
          },
          "metadata": {},
          "execution_count": 12
        }
      ]
    },
    {
      "cell_type": "markdown",
      "source": [
        "**Agrupació dels arxius anteriors per fer-ne els totals anuals, agrupant els totals mensuals**"
      ],
      "metadata": {
        "id": "QZAWwhH9X9EN"
      }
    },
    {
      "cell_type": "code",
      "source": [
        "#Lectura dels arxius generats de forma mensual\n",
        "d1 = pd.read_csv(\"MES01.csv\")\n",
        "d2 = pd.read_csv(\"MES02.csv\")\n",
        "d3 = pd.read_csv(\"MES03.csv\")\n",
        "d4 = pd.read_csv(\"MES04.csv\")\n",
        "d5 = pd.read_csv(\"MES05.csv\")\n",
        "d6 = pd.read_csv(\"MES06.csv\")\n",
        "d7 = pd.read_csv(\"MES07.csv\")\n",
        "d8 = pd.read_csv(\"MES08.csv\")\n",
        "d9 = pd.read_csv(\"MES09.csv\")\n",
        "d10 = pd.read_csv(\"MES10.csv\")\n",
        "d11 = pd.read_csv(\"MES11.csv\")\n",
        "d12 = pd.read_csv(\"MES12.csv\")\n",
        "\n",
        "#Concatenació dels arxius anteriors\n",
        "Partial = pd.concat([d1,d2,d3,d4,d5,d6,d7,d8,d9,d10,d11,d12])\n",
        "Partial.to_csv(\"Partial.csv\")\n",
        "Partial = pd.read_csv(\"Partial.csv\")\n",
        "\n",
        "#Definició de les columnes de la nova tala\n",
        "Transit0 = pd.DataFrame(columns=[\"Calendari1\",\"Numero_dades\",\"Estat_mitja\"])\n",
        "\n",
        "#Copia dels valors de la taula Partial al nou arxiu creat\n",
        "n0=0\n",
        "while n0<len(Partial):\n",
        "    Transit0.at[n0,\"Calendari1\"]=Partial.at[n0,\"Calendari1\"]\n",
        "    Transit0.at[n0,\"Numero_dades\"]=Partial.at[n0,\"Numero_dades\"]\n",
        "    Transit0.at[n0,\"Estat_mitja\"]=Partial.at[n0,\"Estat_mitja\"]\n",
        "    n0=n0+1\n",
        "\n",
        "#Definició de l'index de la taula\n",
        "Transit0=Transit0.set_index(\"Calendari1\")\n",
        "\n",
        "#Export del arxiu de dades. Cal fer-ne 3, un per cada any estudiat\n",
        "Transit0.to_csv(\"Transit0.csv\")"
      ],
      "metadata": {
        "id": "sJtF8GdWX9RV",
        "colab": {
          "base_uri": "https://localhost:8080/"
        },
        "outputId": "f1817ed6-5319-4959-b5ed-382d9640c9fd"
      },
      "execution_count": null,
      "outputs": [
        {
          "output_type": "execute_result",
          "data": {
            "text/plain": [
              "'\\n#Lectura dels arxius generats de forma mensual\\nd1 = pd.read_csv(\"MES01.csv\")\\nd2 = pd.read_csv(\"MES02.csv\")\\nd3 = pd.read_csv(\"MES03.csv\")\\nd4 = pd.read_csv(\"MES04.csv\")\\nd5 = pd.read_csv(\"MES05.csv\")\\nd6 = pd.read_csv(\"MES06.csv\")\\nd7 = pd.read_csv(\"MES07.csv\")\\nd8 = pd.read_csv(\"MES08.csv\")\\nd9 = pd.read_csv(\"MES09.csv\")\\nd10 = pd.read_csv(\"MES10.csv\")\\nd11 = pd.read_csv(\"MES11.csv\")\\nd12 = pd.read_csv(\"MES12.csv\")\\n\\n#Concatenació dels arxius anteriors\\nPartial = pd.concat([d1,d2,d3,d4,d5,d6,d7,d8,d9,d10,d11,d12])\\nPartial.to_csv(\"Partial.csv\")\\nPartial = pd.read_csv(\"Partial.csv\")\\n\\n#Definició de les columnes de la nova tala\\nTransit0 = pd.DataFrame(columns=[\"Calendari1\",\"Numero_dades\",\"Estat_mitja\"])\\n\\n#Copia dels valors de la taula Partial al nou arxiu creat\\nn0=0\\nwhile n0<len(Partial):\\n    Transit0.at[n0,\"Calendari1\"]=Partial.at[n0,\"Calendari1\"]\\n    Transit0.at[n0,\"Numero_dades\"]=Partial.at[n0,\"Numero_dades\"]\\n    Transit0.at[n0,\"Estat_mitja\"]=Partial.at[n0,\"Estat_mitja\"]\\n    n0=n0+1\\n\\n#Definició de l\\'index de la taula\\nTransit0=Transit0.set_index(\"Calendari1\")\\n\\n#Export del arxiu de dades. Cal fer-ne 3, un per cada any estudiat\\nTransit0.to_csv(\"Transit0.csv\")\\n'"
            ],
            "application/vnd.google.colaboratory.intrinsic+json": {
              "type": "string"
            }
          },
          "metadata": {},
          "execution_count": 13
        }
      ]
    },
    {
      "cell_type": "markdown",
      "source": [
        "**Agrupació dels arxius totals anuals**"
      ],
      "metadata": {
        "id": "FVUzl9uQYwB4"
      }
    },
    {
      "cell_type": "code",
      "source": [
        "#Lectura dels arxius generats\n",
        "Transit18 = pd.read_csv(\"Transit 2018.csv\")\n",
        "Transit19 = pd.read_csv(\"Transit 2019.csv\")\n",
        "\n",
        "#Concatenació dels arxius\n",
        "Transit = pd.concat([Transit18, Transit19])\n",
        "\n",
        "#Definició de l'index de la taula\n",
        "#Transit=Transit.set_index(\"Calendari1\")\n",
        "\n",
        "#Relació de l'arxiu Merge4m d'accidents amb l'arxiu Trafic de l'estat del transit\n",
        "Merge5=[]\n",
        "Merge5 = pd.merge(Merge4m, Transit, on='Calendari1', how='left')\n",
        "\n",
        "#Arrodoniment de l'estat del trànsi i eliminació de columnes auxiliars\n",
        "Merge5.Estat_mitja= Merge5.Estat_mitja.round()\n",
        "Merge5 = Merge5.drop('Calendari1', 1)\n",
        "Merge5 = Merge5.drop('Numero_dades', 1)"
      ],
      "metadata": {
        "id": "Jh1-uqV3YpVH"
      },
      "execution_count": null,
      "outputs": []
    },
    {
      "cell_type": "markdown",
      "source": [
        "# Neteja de les dades final"
      ],
      "metadata": {
        "id": "Zgj4TYcZmsYL"
      }
    },
    {
      "cell_type": "markdown",
      "source": [
        "**Neteja de les dades, variables numèriques**"
      ],
      "metadata": {
        "id": "t-0WLtQw50iQ"
      }
    },
    {
      "cell_type": "code",
      "source": [
        "#Conversió de les columnes amb variables numèriques discretes a numèric\n",
        "Merge5.Edat = pd.to_numeric(Merge5.Edat, errors='coerce')\n",
        "Merge5.Any = pd.to_numeric(Merge5.Any, errors='coerce')\n",
        "Merge5.Antiguetat_carnet = pd.to_numeric(Merge5.Antiguetat_carnet, errors='coerce')\n",
        "Merge5.Numero_morts = pd.to_numeric(Merge5.Numero_morts, errors='coerce')\n",
        "Merge5.Numero_lesionats_lleus = pd.to_numeric(Merge5.Numero_lesionats_lleus, errors='coerce')\n",
        "Merge5.Numero_lesionats_greus = pd.to_numeric(Merge5.Numero_lesionats_greus, errors='coerce')\n",
        "Merge5.Numero_victimes = pd.to_numeric(Merge5.Numero_victimes, errors='coerce')\n",
        "Merge5.Numero_vehicles_implicats = pd.to_numeric(Merge5.Numero_vehicles_implicats, errors='coerce')\n",
        "Merge5.Estat_mitja = pd.to_numeric(Merge5.Estat_mitja, errors='coerce')\n",
        "\n",
        "#Eliminació dels accidents sense valor a la variable\n",
        "Merge5= Merge5[Merge5.Descripcio_victimitzacio.notnull()]\n",
        "Merge5= Merge5[Merge5.Edat.notnull()]\n",
        "Merge5= Merge5[Merge5.Antiguetat_carnet.notnull()]\n",
        "\n",
        "#Eliminació dels accidents identificats com \"desconegut\"\n",
        "Merge5= Merge5[Merge5.Descripcio_victimitzacio != \"0. Desconegut\"]\n",
        "Merge5= Merge5[Merge5.Antiguetat_carnet != \"Desconegut\"]\n",
        "Merge5= Merge5[Merge5.Edat != \"Desconegut\"]\n",
        "\n",
        "#Reset de l'índex després d'eliminar accidents\n",
        "Merge5 = Merge5.reset_index(drop=True)\n",
        "\n",
        "#En aquest punt es té una taula on no hi ha accidents amb variables numèriques com \"desconegut\" ni sense valor\n",
        "\n",
        "Merge5['03.TM'].fillna((Merge5['03.TM'].mean()), inplace=True)\n",
        "Merge5['03.TM']=Merge5['03.TM'].round(1)\n",
        "\n",
        "Merge5['04.TX'].fillna((Merge5['04.TX'].mean()), inplace=True)\n",
        "Merge5['04.TX']=Merge5['04.TX'].round(1)\n",
        "\n",
        "Merge5['05.TN'].fillna((Merge5['05.TN'].mean()), inplace=True)\n",
        "Merge5['05.TN']=Merge5['05.TN'].round(1)\n",
        "\n",
        "Merge5['06.HRM'].fillna((Merge5['06.HRM'].mean()), inplace=True)\n",
        "Merge5['06.HRM']=Merge5['06.HRM'].round(1)\n",
        "\n",
        "Merge5['07.PPT24H'].fillna((Merge5['07.PPT24H'].mean()), inplace=True)\n",
        "Merge5['07.PPT24H']=Merge5['07.PPT24H'].round(1)\n",
        "\n",
        "Merge5['08.HPA'].fillna((Merge5['08.HPA'].mean()), inplace=True)\n",
        "Merge5['08.HPA']=Merge5['08.HPA'].round(1)\n",
        "\n",
        "Merge5['09.RS24H'].fillna((Merge5['09.RS24H'].mean()), inplace=True)\n",
        "Merge5['09.RS24H']=Merge5['09.RS24H'].round(1)\n",
        "\n",
        "Merge5['10.VVM10'].fillna((Merge5['10.VVM10'].mean()), inplace=True)\n",
        "Merge5['10.VVM10']=Merge5['10.VVM10'].round(1)\n",
        "\n",
        "Merge5['11.DVM10'].fillna((Merge5['11.DVM10'].mean()), inplace=True)\n",
        "Merge5['11.DVM10']=Merge5['11.DVM10'].round(1)\n",
        "\n",
        "Merge5['12.VVX10'].fillna((Merge5['12.VVX10'].mean()), inplace=True)\n",
        "Merge5['12.VVX10']=Merge5['12.VVX10'].round(1)\n",
        "\n",
        "Merge5['13.DVX10'].fillna((Merge5['13.DVX10'].mean()), inplace=True)\n",
        "Merge5['13.DVX10']=Merge5['13.DVX10'].round(1)"
      ],
      "metadata": {
        "id": "14e9OtpqJnXz"
      },
      "execution_count": null,
      "outputs": []
    },
    {
      "cell_type": "markdown",
      "source": [
        "#  Arreglar edat i sexe, modificar-los i afegir l'edat i el sexe del conductor"
      ],
      "metadata": {
        "id": "If0V0W_fl4_Z"
      }
    },
    {
      "cell_type": "code",
      "source": [
        "Merge5 = Merge5.drop('Edat', 1)\n",
        "MergeE1=[]\n",
        "MergeE1=A2.copy()\n",
        "MergeE1.drop(MergeE1.columns.difference(['Numero_expedient','Edat', 'Descripcio_sexe', 'Descripcio_tipus_persona']), 1, inplace=True)\n",
        "MergeE1 = MergeE1.drop(MergeE1[(MergeE1.Descripcio_tipus_persona !=\"Conductor\")].index)\n",
        "MergeE1 = MergeE1[~MergeE1.Numero_expedient.duplicated(keep='last')]\n",
        "MergeEE=[]\n",
        "MergeEE = pd.merge(Merge5, MergeE1, on='Numero_expedient', how='left')"
      ],
      "metadata": {
        "id": "58CRnuHll8-r"
      },
      "execution_count": null,
      "outputs": []
    },
    {
      "cell_type": "code",
      "source": [
        "Buit=MergeEE.at[30,\"Edat\"]\n",
        "n=0\n",
        "while n<len(MergeEE):\n",
        "  if MergeEE.at[n,\"Descripcio_tipus_persona_y\"]!=\"Conductor\":\n",
        "    MergeEE.at[n,\"Edat\"]='1000'  #'Edat conductor desconeguda'\n",
        "    MergeEE.at[n,\"Descripcio_sexe_y\"]='AAA'  \n",
        "    MergeEE.at[n,\"Descripcio_tipus_persona_y\"]='No conductor'\n",
        "\n",
        "\n",
        "  if MergeEE.at[n,\"Descripcio_sexe_y\"]==Buit:\n",
        "    MergeEE.at[n,\"Descripcio_sexe_y\"]='AAA'\n",
        "  n=n+1\n",
        "MergeEE = MergeEE.drop('Descripcio_tipus_persona_x', 1)\n",
        "MergeEE = MergeEE.drop('Descripcio_sexe_x', 1)\n",
        "MergeEE=MergeEE.rename(columns = {'Descripcio_tipus_persona_y':'Descripcio_tipus_persona'})\n",
        "MergeEE=MergeEE.rename(columns = {'Descripcio_sexe_y':'Descripcio_sexe'})\n",
        "MergeEE.Edat = pd.to_numeric(MergeEE.Edat, errors='coerce')\n",
        "\n",
        "#MergeEE.Descripcio_sexe=MergeEE.Descripcio_sexe.astype(str)\n",
        "MergeEE[\"Descripcio_sexe\"] = MergeEE[\"Descripcio_sexe\"].str.replace(\"AAA\", \"Sexe desconegut\")\n",
        "MergeEE[\"Descripcio_sexe\"] = MergeEE[\"Descripcio_sexe\"].str.replace(\"Desconegut\", \"Sexe desconegut\")"
      ],
      "metadata": {
        "colab": {
          "base_uri": "https://localhost:8080/"
        },
        "id": "_oigBHPUmsCS",
        "outputId": "96aec1f7-6c21-4e77-d13a-fc62c004d12b"
      },
      "execution_count": null,
      "outputs": [
        {
          "output_type": "stream",
          "name": "stderr",
          "text": [
            "/usr/local/lib/python3.7/dist-packages/ipykernel_launcher.py:13: FutureWarning: In a future version of pandas all arguments of DataFrame.drop except for the argument 'labels' will be keyword-only\n",
            "  del sys.path[0]\n",
            "/usr/local/lib/python3.7/dist-packages/ipykernel_launcher.py:14: FutureWarning: In a future version of pandas all arguments of DataFrame.drop except for the argument 'labels' will be keyword-only\n",
            "  \n"
          ]
        }
      ]
    },
    {
      "cell_type": "markdown",
      "source": [
        "# Anàlisi descriptiu"
      ],
      "metadata": {
        "id": "6WqVEvkELK4m"
      }
    },
    {
      "cell_type": "markdown",
      "source": [
        "**Anàlisi descriptiu de les dades numèriques**\n",
        "No es contempla en cap cas la variable numero_expedient"
      ],
      "metadata": {
        "id": "uZLlxgo457Eg"
      }
    },
    {
      "cell_type": "code",
      "source": [
        "Merge7=MergeEE\n",
        "Merge7.Edat = pd.to_numeric(Merge7.Edat, errors='coerce')\n",
        "\n",
        "\n",
        "DescriptiuA=[]\n",
        "DadesA=[]\n",
        "DadesC=[]\n",
        "CategoriesA=[]\n",
        "AuxB=[]\n",
        "\n",
        "min_year=1\n",
        "dfs = []\n",
        "for Gravetat_gen in np.arange (0, 114):\n",
        "    G1 = 'G1_'+str(int(Gravetat_gen+min_year))\n",
        "    dfs.append(G1)\n",
        "dfs\n",
        "\n",
        "VariablesA = pd.DataFrame({'Variables':['Antiguetat_carnet', 'Numero_morts', 'Numero_lesionats_lleus', 'Numero_lesionats_greus', 'Numero_victimes', 'Numero_vehicles_implicats','03.TM','04.TX','05.TN','06.HRM','07.PPT24H','08.HPA','09.RS24H',\n",
        "                                        '10.VVM10','11.DVM10','12.VVX10','13.DVX10','Estat_mitja','Edat']})\n",
        "\n",
        "DescriptiuA = pd.DataFrame({\"Dades\":0,\"Gravetat\":0,\"Observacions\":0,\"Mitjana\":0,\"SD\":0,\"Mediana\":0,\"Min\":0,\"Max\":0,\"Rang\":0},index =[0]) \n",
        "\n",
        "DadesA = pd.DataFrame({'Gravetat':['Lleu', 'Assistencia', 'Hospitalitzat', 'Greu', 'Mort'], 'Gravetat1':['1. Lleu', '2. Assistencia', '3. Hospitalitzat', '4. Greu', '5. Mort']})\n",
        "\n",
        "DadesC = pd.DataFrame({\"Dades\":\"\"},index =[0])\n",
        "\n",
        "DescriptiuA['Dades'] = DescriptiuA['Dades'].astype(str)\n",
        "DescriptiuA['Gravetat'] = DescriptiuA['Gravetat'].astype(str)\n",
        "\n",
        "m=0\n",
        "q=0\n",
        "while q<len(VariablesA):\n",
        "  Variable=VariablesA.at[q,\"Variables\"]\n",
        "  DescriptiuA.at[(q*5+1), \"Dades\"]=Variable\n",
        "  i=0\n",
        "  while i<len(DadesA):\n",
        "    DadesC=[]\n",
        "    DadesC = pd.DataFrame({\"Dades\":\"\"},index =[0])\n",
        "    XX=dfs[q*6+i]\n",
        "    DescriptiuA.at[XX,\"Mitjana\"]=0\n",
        "    ZZ=DadesA.at[i,\"Gravetat1\"]\n",
        "    j=0\n",
        "    while j<len(Merge7):\n",
        "      if (Merge7.at[j,\"Descripcio_victimitzacio\"]==ZZ):\n",
        "        DescriptiuA.at[XX,\"Observacions\"]=0\n",
        "      j=j+1\n",
        "    j=0\n",
        "    while j<len(Merge7):\n",
        "      if ((Merge7.at[j,\"Descripcio_victimitzacio\"]==ZZ) &(Merge7.at[j,Variable]!='')):\n",
        "        DescriptiuA.at[XX,\"Observacions\"]=DescriptiuA.at[XX,\"Observacions\"]+1\n",
        "        DescriptiuA.at[XX,\"Mitjana\"]=DescriptiuA.at[XX,\"Mitjana\"]+Merge7.at[j,Variable]\n",
        "        DadesC.at[j,\"Dades\"]=Merge7.at[j,Variable]\n",
        "      j=j+1\n",
        "    i=i+1\n",
        "    DadesC.Dades = pd.to_numeric(DadesC.Dades, errors='coerce')\n",
        "    DescriptiuA.at[XX,\"SD\"]=(DadesC['Dades'].std())\n",
        "    DescriptiuA.at[XX,\"Mediana\"]=(DadesC['Dades'].median())\n",
        "    DescriptiuA.at[XX,\"Min\"]=(DadesC['Dades'].min())\n",
        "    DescriptiuA.at[XX,\"Max\"]=(DadesC['Dades'].max())\n",
        "    DescriptiuA.at[XX,\"Rang\"]=(DescriptiuA.at[XX,\"Max\"])-(DescriptiuA.at[XX,\"Min\"])\n",
        "    DescriptiuA.at[XX,\"Mitjana\"]=(DescriptiuA.at[XX,\"Mitjana\"])/(DescriptiuA.at[XX,\"Observacions\"])\n",
        "  q=q+1\n",
        "DescriptiuA.to_excel(\"DescriptiuA.xlsx\")"
      ],
      "metadata": {
        "id": "E3o3LaTSao5o"
      },
      "execution_count": null,
      "outputs": []
    },
    {
      "cell_type": "code",
      "source": [
        "Merge7.at[j,Variable]"
      ],
      "metadata": {
        "id": "K0CD5Wea4tEu"
      },
      "execution_count": null,
      "outputs": []
    },
    {
      "cell_type": "markdown",
      "source": [
        "**Anàlisi descriptiu de les dades categòriques**"
      ],
      "metadata": {
        "id": "UFjm_5cNgoGQ"
      }
    },
    {
      "cell_type": "code",
      "source": [
        "#Buidar taules\n",
        "DescriptiuB=[]\n",
        "DadesB=[]\n",
        "CategoriesB=[]\n",
        "Merge6=MergeEE\n",
        "\n",
        "Merge6[\"Districte\"] = Merge6[\"Districte\"].str.replace(\"Desconegut\", \"Districte desconegut\")\n",
        "Merge6[\"Barri\"] = Merge6[\"Barri\"].str.replace(\"Desconegut\", \"Barri desconegut\")\n",
        "Merge6[\"Barri\"] = Merge6[\"Barri\"].str.replace(\"Sant Andreu\", \"Barri St Andreu\")\n",
        "Merge6[\"Barri\"] = Merge6[\"Barri\"].str.replace(\"les Corts\", \"Barri Les Corts\")\n",
        "Merge6[\"Desc_Tipus_vehicle_implicat\"] = Merge6[\"Desc_Tipus_vehicle_implicat\"].str.replace(\"Desconegut\", \"TipusV desconegut\")\n",
        "Merge6[\"Descripcio_carnet\"] = Merge6[\"Descripcio_carnet\"].str.replace(\"Desconegut\", \"Carnet desconegut\")\n",
        "Merge6[\"Descripcio_carnet\"] = Merge6[\"Descripcio_carnet\"].str.replace(\"Es desconeix\", \"Carnet desconegut\")\n",
        "Merge6[\"Descripcio_color\"] = Merge6[\"Descripcio_color\"].str.replace(\"Desconegut\", \"Color desconegut\")\n",
        "Merge6[\"Descripcio_color\"] = Merge6[\"Descripcio_color\"].str.replace(\"Altres\", \"Altre color\")\n",
        "Merge6[\"Descripcio_sexe\"] = Merge6[\"Descripcio_sexe\"].str.replace(\"Desconegut\", \"Sexe desconegut\")\n",
        "Merge6[\"Descripcio_situacio\"] = Merge6[\"Descripcio_situacio\"].str.replace(\"Desconegut\", \"Situació desconegut\")\n",
        "Merge6[\"Descripcio_situacio\"] = Merge6[\"Descripcio_situacio\"].str.replace(\"Altres\", \"Altra situació\")\n",
        "Merge6[\"Descripcio_situacio\"] = Merge6[\"Descripcio_situacio\"].str.replace(\"En pas regulat per semàfor\", \"En pas regulat per semafor\")\n",
        "Merge6[\"Descripcio_situacio\"] = Merge6[\"Descripcio_situacio\"].str.replace(\"En pas sense senyalitzar                                                                                                                              \", \"En pas sense senyalitzar\")\n",
        "Merge6[\"Tipus_accident\"] = Merge6[\"Tipus_accident\"].str.replace(\"Desconegut\", \"TipusAcc desconegut\")\n",
        "Merge6[\"Tipus_accident\"] = Merge6[\"Tipus_accident\"].str.replace(\"Altres\", \"Altre tipusAcc\")\n",
        "Merge6[\"Descripcio_causa_vianant\"] = Merge6[\"Descripcio_causa_vianant\"].str.replace(\"Altres\", \"Altra causa\")\n",
        "Merge6[\"Desc_Tipus_vehicle_implicat\"] = Merge6[\"Desc_Tipus_vehicle_implicat\"].str.replace(\"Camió rígid  3.5 tones\", \"Camio\")\n",
        "Merge6[\"Desc_Tipus_vehicle_implicat\"] = Merge6[\"Desc_Tipus_vehicle_implicat\"].str.replace(\"Camió rígid3.5 tones\", \"Camio\")\n",
        "Merge6[\"Desc_Tipus_vehicle_implicat\"] = Merge6[\"Desc_Tipus_vehicle_implicat\"].str.replace(\"Microbús  17\", \"Microbús\")\n",
        "Merge6[\"Desc_Tipus_vehicle_implicat\"] = Merge6[\"Desc_Tipus_vehicle_implicat\"].str.replace(\"Microbús17\", \"Microbús\")\n",
        "Merge6[\"Desc_Tipus_vehicle_implicat\"] = Merge6[\"Desc_Tipus_vehicle_implicat\"].str.replace(\"Maquinŕria d'obres i serveis\", \"Maquinària d'obres i serveis\")\n",
        "Merge6[\"Descripcio_carnet\"] = Merge6[\"Descripcio_carnet\"].str.replace(\"Microbús17\", \"Microbús\")\n",
        "\n",
        "\n",
        "VariablesB = pd.DataFrame({'Variables':['Districte', 'Barri', 'Any', 'Nom_mes', 'Descripcio_causa_mediata', 'Desc_Tipus_vehicle_implicat', 'Descripcio_sexe', 'Descripcio_tipus_persona', 'Descripcio_situacio','Descripcio_victimitzacio', 'Tipus_accident',\n",
        "                                       'Descripcio_causa_vianant', 'Descripcio_color', 'Descripcio_carnet', 'Multiples vehicles implicats', 'Torn', 'Festiu']}) #, 'Descripcio_model', 'Descripcio_marca', 'Descripcio_victimitzacio'\n",
        "\n",
        "DescriptiuB = pd.DataFrame({\"Lleu\":0,\"Assistencia\":0,\"Hospitalitzat\":0,\"Greu\":0,\"Mort\":0},index =[0]) \n",
        "\n",
        "DadesB = pd.DataFrame({'Gravetat':['Lleu', 'Assistencia', 'Hospitalitzat', 'Greu', 'Mort'], 'Gravetat1':['1. Lleu', '2. Assistencia', '3. Hospitalitzat', '4. Greu', '5. Mort']})\n",
        "\n",
        "m=0\n",
        "q=0\n",
        "while q<len(VariablesB):\n",
        "  Variable=VariablesB.at[q,\"Variables\"]\n",
        "  CategoriesB=[]\n",
        "  CategoriesB=Merge6[(Variable)].unique()\n",
        "  i=0\n",
        "  while i<len(DadesB):\n",
        "    XX=DadesB.at[i,\"Gravetat\"]\n",
        "    ZZ=DadesB.at[i,\"Gravetat1\"]\n",
        "    j=0\n",
        "    while j<len(Merge6):\n",
        "      if (Merge6.at[j,\"Descripcio_victimitzacio\"]==ZZ):\n",
        "        YY=Merge6.at[j,Variable]\n",
        "        DescriptiuB.at[YY,XX]=0\n",
        "      j=j+1\n",
        "    j=0\n",
        "    while j<len(Merge6):\n",
        "      if (Merge6.at[j,\"Descripcio_victimitzacio\"]==ZZ):\n",
        "        YY=Merge6.at[j,Variable]\n",
        "        DescriptiuB.at[YY,XX]=DescriptiuB.at[YY,XX]+1\n",
        "      j=j+1\n",
        "    i=i+1 \n",
        "  q=q+1\n",
        "  \n",
        "DescriptiuB.to_excel(\"DescriptiuB.xlsx\")"
      ],
      "metadata": {
        "id": "wQ8VCIvpCVax",
        "colab": {
          "base_uri": "https://localhost:8080/"
        },
        "outputId": "c515e0a1-3a37-4175-b157-09e01f07e56f"
      },
      "execution_count": null,
      "outputs": [
        {
          "output_type": "stream",
          "name": "stderr",
          "text": [
            "/usr/local/lib/python3.7/dist-packages/ipykernel_launcher.py:24: FutureWarning: The default value of regex will change from True to False in a future version.\n",
            "/usr/local/lib/python3.7/dist-packages/ipykernel_launcher.py:25: FutureWarning: The default value of regex will change from True to False in a future version.\n"
          ]
        }
      ]
    },
    {
      "cell_type": "code",
      "source": [
        "DescriptiuB"
      ],
      "metadata": {
        "id": "rVBg1RFiC5Zp"
      },
      "execution_count": null,
      "outputs": []
    },
    {
      "cell_type": "markdown",
      "source": [
        "# Taules de coeficients de relació entre variables. Pearson i Spearman"
      ],
      "metadata": {
        "id": "5J_SgCv2Br9s"
      }
    },
    {
      "cell_type": "code",
      "source": [
        "#representació de les taules de Pearson i Spearman\n",
        "import seaborn as sns\n",
        "import matplotlib.pyplot as plt\n",
        "\n",
        "Merge8=MergeEE\n",
        "Merge8 = Merge8.drop('Any',  1)\n",
        "\n",
        "plt.figure(figsize=(16,8))\n",
        "# define the mask to set the values in the upper triangle to True\n",
        "mask = np.triu(np.ones_like(Merge8.corr(method ='pearson'), dtype=np.bool))\n",
        "heatmapP = sns.heatmap(Merge8.corr(method ='pearson'), mask=mask, vmin=-1, vmax=1, annot=True, cmap='BrBG')\n",
        "heatmapP.set_title('Taula de correlació entre variables. Pearson', fontdict={'fontsize':15}, pad=16);\n",
        "\n",
        "plt.savefig('Pearson.png', dpi=300, bbox_inches='tight')\n",
        "\n",
        "plt.figure(figsize=(16,8))\n",
        "# define the mask to set the values in the upper triangle to True\n",
        "mask = np.triu(np.ones_like(Merge8.corr(method ='spearman'), dtype=np.bool))\n",
        "heatmapS = sns.heatmap(Merge8.corr(method ='spearman'), mask=mask, vmin=-1, vmax=1, annot=True, cmap='BrBG')\n",
        "heatmapS.set_title('Taula de correlació entre variables. Spearman', fontdict={'fontsize':15}, pad=16);\n",
        "\n",
        "plt.savefig('Spearman.png', dpi=300, bbox_inches='tight')"
      ],
      "metadata": {
        "id": "NpE43J85xD1C"
      },
      "execution_count": null,
      "outputs": []
    },
    {
      "cell_type": "markdown",
      "source": [
        "**Funció per al càlcul dels P-values**"
      ],
      "metadata": {
        "id": "RueLr5DdB3UI"
      }
    },
    {
      "cell_type": "code",
      "source": [
        "#Calcul dels P-values Spearman de les dades \n",
        "from scipy.stats import spearmanr\n",
        "import pandas as pd\n",
        "\n",
        "def calculate_pvaluesS(Merge8):\n",
        "    Merge8 = Merge8.dropna()._get_numeric_data()\n",
        "    dfcols = pd.DataFrame(columns=Merge8.columns)\n",
        "    pvalues = dfcols.transpose().join(dfcols, how='outer')\n",
        "    for r in Merge8.columns:\n",
        "        for c in Merge8.columns:\n",
        "            pvalues[r][c] = round(spearmanr(Merge8[r], Merge8[c])[1], 4)\n",
        "    return pvalues\n"
      ],
      "metadata": {
        "id": "8bXX4L9VP8VU"
      },
      "execution_count": null,
      "outputs": []
    },
    {
      "cell_type": "code",
      "source": [
        "#Calcul dels P-values Pearson de les dades \n",
        "from scipy.stats import pearsonr\n",
        "import pandas as pd\n",
        "\n",
        "def calculate_pvaluesP(Merge8):\n",
        "    Merge8 = Merge8.dropna()._get_numeric_data()\n",
        "    dfcols = pd.DataFrame(columns=Merge8.columns)\n",
        "    pvalues = dfcols.transpose().join(dfcols, how='outer')\n",
        "    for r in Merge8.columns:\n",
        "        for c in Merge8.columns:\n",
        "            pvalues[r][c] = round(pearsonr(Merge8[r], Merge8[c])[1], 4)\n",
        "    return pvalues"
      ],
      "metadata": {
        "id": "n1WULp_Pm29u"
      },
      "execution_count": null,
      "outputs": []
    },
    {
      "cell_type": "markdown",
      "source": [
        "**Calcul dels P-values**"
      ],
      "metadata": {
        "id": "D4Jxr1opFIKa"
      }
    },
    {
      "cell_type": "code",
      "source": [
        "#Calcul dels P value de Spearman i Pearson\n",
        "PvalS=[]\n",
        "PvalP=[]\n",
        "PvalS=calculate_pvaluesS(Merge8).values\n",
        "PvalP=calculate_pvaluesP(Merge8).values\n",
        "\n",
        "#PvalC = PvalC.astype(int)\n",
        "PvalS=PvalS.astype(float)\n",
        "PvalS=PvalS.round(5)\n",
        "\n",
        "PvalP=PvalP.astype(float)\n",
        "PvalP=PvalP.round(5)\n",
        "\n",
        "#representarció\n",
        "plt.figure(figsize=(16,8))\n",
        "# define the mask to set the values in the upper triangle to True\n",
        "mask = np.triu(np.ones_like(PvalS, dtype=np.bool))\n",
        "heatmap = sns.heatmap(PvalS, mask=mask, vmin=-1, vmax=1, annot=True, cmap='BrBG')\n",
        "heatmap.set_title('PValues Pearson', fontdict={'fontsize':15}, pad=16);\n",
        "plt.savefig('PvalSpearman.png', dpi=300, bbox_inches='tight')\n",
        "\n",
        "#representarció\n",
        "plt.figure(figsize=(16,8))\n",
        "# define the mask to set the values in the upper triangle to True\n",
        "mask = np.triu(np.ones_like(PvalP, dtype=np.bool))\n",
        "heatmap = sns.heatmap(PvalP, mask=mask, vmin=-1, vmax=1, annot=True, cmap='BrBG')\n",
        "heatmap.set_title('PValues Spearman', fontdict={'fontsize':15}, pad=16);\n",
        "plt.savefig('PvalPearson.png', dpi=300, bbox_inches='tight')"
      ],
      "metadata": {
        "id": "MulDl7DzBi1p"
      },
      "execution_count": null,
      "outputs": []
    },
    {
      "cell_type": "markdown",
      "source": [
        "# Càlcul CHI-SQUARE"
      ],
      "metadata": {
        "id": "6TFMRRQFBhjO"
      }
    },
    {
      "cell_type": "code",
      "source": [
        "#llibreries necessàries\n",
        "import seaborn as sns\n",
        "import matplotlib.pyplot as plt\n",
        "from matplotlib.colors import ListedColormap\n",
        "\n",
        "#Bucle per calcular totes les combinacions de columnes\n",
        "Merge9=MergeEE\n",
        "Merge9 = Merge9.drop(['Antiguetat_carnet', 'Numero_morts', 'Numero_lesionats_lleus', 'Numero_lesionats_greus', 'Numero_victimes', 'Numero_vehicles_implicats','03.TM','04.TX','05.TN','06.HRM','07.PPT24H','08.HPA','09.RS24H',\n",
        "                                        '10.VVM10','11.DVM10','12.VVX10','13.DVX10','Estat_mitja','Edat','Descripcio_model', 'Descripcio_marca'], axis=1)\n",
        "#Merge9[\"Desc_Tipus_vehicle_implicat\"] = Merge9[\"Desc_Tipus_vehicle_implicat\"].str.replace(\"Quadricicle < 75 cc\", \"Quadriciclemsetantacinc\")\n",
        "\n",
        "VariablesB = pd.DataFrame({'Variables':['Districte', 'Barri', 'Any', 'Nom_mes', 'Descripcio_causa_mediata', 'Desc_Tipus_vehicle_implicat', 'Descripcio_sexe', 'Descripcio_tipus_persona', 'Descripcio_situacio', 'Descripcio_victimitzacio', 'Tipus_accident',\n",
        "                                       'Descripcio_causa_vianant', 'Descripcio_color', 'Descripcio_carnet', 'Multiples vehicles implicats', 'Torn', 'Festiu']}) #, 'Descripcio_model', 'Descripcio_marca', 'Descripcio_victimitzacio'\n",
        "\n",
        "Chi2=pd.DataFrame({\"Districte\":0, \"Barri\":0, \"Any\":0, \"Nom_mes\":0, \"Descripcio_causa_mediata\":0, \"Desc_Tipus_vehicle_implicat\":0, \"Descripcio_sexe\":0, \"Descripcio_tipus_persona\":0, \"Descripcio_situacio\":0, \"Descripcio_victimitzacio\":0, \"Tipus_accident\":0,\n",
        "                                       \"Descripcio_causa_vianant\":0, \"Descripcio_color\":0, \"Descripcio_carnet\":0, \"Multiples vehicles implicats\":0, \"Torn\":0, \"Festiu\":0},index =[0]) \n",
        "\n",
        "Chi2p=pd.DataFrame({\"Districte\":0, \"Barri\":0, \"Any\":0, \"Nom_mes\":0, \"Descripcio_causa_mediata\":0, \"Desc_Tipus_vehicle_implicat\":0, \"Descripcio_sexe\":0, \"Descripcio_tipus_persona\":0, \"Descripcio_situacio\":0, \"Descripcio_victimitzacio\":0, \"Tipus_accident\":0,\n",
        "                                       \"Descripcio_causa_vianant\":0, \"Descripcio_color\":0, \"Descripcio_carnet\":0, \"Multiples vehicles implicats\":0, \"Torn\":0, \"Festiu\":0},index =[0])\n",
        "\n",
        "#Funció per calcular la Chi-square: https://towardsdatascience.com/statistics-in-python-using-chi-square-for-feature-selection-d44f467ca745\n",
        "def chi2_by_hand2(df, col1, col2):    \n",
        "    #---create the contingency table---\n",
        "    df_cont = pd.crosstab(index = df[col1], columns = df[col2])\n",
        "    #display(df_cont)\n",
        "    #---calculate degree of freedom---\n",
        "    degree_f = (df_cont.shape[0]-1) * (df_cont.shape[1]-1)\n",
        "    #---sum up the totals for row and columns---\n",
        "    df_cont.loc[:,'Total']= df_cont.sum(axis=1)\n",
        "    df_cont.loc['Total']= df_cont.sum()\n",
        "    #print('---Observed (O)---')\n",
        "    #display(df_cont)\n",
        "    #---create the expected value dataframe---\n",
        "    df_exp = df_cont.copy()    \n",
        "    df_exp.iloc[:,:] = np.multiply.outer(\n",
        "        df_cont.sum(1).values,df_cont.sum().values)/df_cont.sum().sum()            \n",
        "    #print('---Expected (E)---')\n",
        "    #display(df_exp)\n",
        "        \n",
        "    # calculate chi-square values\n",
        "    df_chi2 = ((df_cont - df_exp)**2) / df_exp    \n",
        "    df_chi2.loc[:,'Total']= df_chi2.sum(axis=1)\n",
        "    df_chi2.loc['Total']= df_chi2.sum()\n",
        "    \n",
        "    #print('---Chi-Square---')\n",
        "    #display(df_chi2)\n",
        "    #---get chi-square score---   \n",
        "    chi_square_score = df_chi2.iloc[:-1,:-1].sum().sum()\n",
        "\n",
        "    from scipy import stats\n",
        "    p = stats.distributions.chi2.sf(chi_square_score, degree_f)\n",
        "    Chi2p.at[e,YY]=p\n",
        "    Chi2.at[e,YY]=chi_square_score #he afegit això\n",
        "    return chi_square_score, degree_f, p\n",
        "e=0\n",
        "r=0\n",
        "XX=0\n",
        "YY=0\n",
        "while e<len(VariablesB):\n",
        "  XX=VariablesB.at[e,\"Variables\"]\n",
        "  r=0\n",
        "  while r<len(VariablesB):\n",
        "    chi_square_score=0\n",
        "    YY=VariablesB.at[r,\"Variables\"]\n",
        "    chi2_by_hand2(Merge9, XX, YY)\n",
        "    r=r+1\n",
        "  e=e+1\n",
        "\n",
        "#canvi de format de les columnes per treure decimals\n",
        "Chi2['Districte'] = Chi2['Districte'].astype(int)\n",
        "Chi2['Barri'] = Chi2['Barri'].astype(int)\n",
        "Chi2['Any'] = Chi2['Any'].astype(int)\n",
        "Chi2['Nom_mes'] = Chi2['Nom_mes'].astype(int)\n",
        "Chi2['Descripcio_causa_mediata'] = Chi2['Descripcio_causa_mediata'].astype(int)\n",
        "Chi2['Desc_Tipus_vehicle_implicat'] = Chi2['Desc_Tipus_vehicle_implicat'].astype(int)\n",
        "Chi2['Descripcio_sexe'] = Chi2['Descripcio_sexe'].astype(int)\n",
        "Chi2['Descripcio_tipus_persona'] = Chi2['Descripcio_tipus_persona'].astype(int)\n",
        "Chi2['Descripcio_situacio'] = Chi2['Descripcio_situacio'].astype(int)\n",
        "Chi2['Descripcio_victimitzacio'] = Chi2['Descripcio_victimitzacio'].astype(int)\n",
        "Chi2['Tipus_accident'] = Chi2['Tipus_accident'].astype(int)\n",
        "Chi2['Descripcio_causa_vianant'] = Chi2['Descripcio_causa_vianant'].astype(int)\n",
        "Chi2['Descripcio_color'] = Chi2['Descripcio_color'].astype(int)\n",
        "Chi2['Descripcio_carnet'] = Chi2['Descripcio_carnet'].astype(int)\n",
        "Chi2['Multiples vehicles implicats'] = Chi2['Multiples vehicles implicats'].astype(int)\n",
        "Chi2['Torn'] = Chi2['Torn'].astype(int)\n",
        "Chi2['Festiu'] = Chi2['Festiu'].astype(int)\n",
        "\n",
        "#Representació de la taula i guardar\n",
        "plt.figure(figsize=(15, 8))\n",
        "mask = np.triu(np.ones_like(Chi2, dtype=np.bool))\n",
        "heatmap = sns.heatmap(Chi2, mask=mask,vmin=0, vmax=213140, annot=True, fmt=\"d\", cmap=ListedColormap(['white']))\n",
        "heatmap.set_title('Taula de correlació entre variables. Chi-square', fontdict={'fontsize':15}, pad=16);\n",
        "plt.savefig('Chi.png', dpi=300, bbox_inches='tight')\n",
        "\n",
        "#representar p-values\n",
        "plt.figure(figsize=(15, 8))\n",
        "mask = np.triu(np.ones_like(Chi2p, dtype=np.bool))\n",
        "heatmap2 = sns.heatmap(Chi2p.round(5), mask=mask,vmin=0, vmax=213140, annot=True, cmap=ListedColormap(['white']))\n",
        "heatmap.set_title('Taula de correlació entre variables. Chi-square', fontdict={'fontsize':15}, pad=16);\n",
        "plt.savefig('ChiP.png', dpi=300, bbox_inches='tight')"
      ],
      "metadata": {
        "id": "DoCugEZH4cq2"
      },
      "execution_count": null,
      "outputs": []
    },
    {
      "cell_type": "markdown",
      "source": [
        "# Càlcul CRAMER's V"
      ],
      "metadata": {
        "id": "QpA-o1ro-FyR"
      }
    },
    {
      "cell_type": "code",
      "source": [
        "#cal haver executat Chi-square abans\n",
        "import scipy.stats as ss\n",
        "from scipy import stats\n",
        "Merge9=MergeEE\n",
        "Merge9 = Merge9.drop(['Edat', 'Antiguetat_carnet','Numero_morts', 'Numero_lesionats_lleus', 'Numero_lesionats_greus', 'Numero_victimes', 'Estat_mitja', 'Descripcio_model', 'Descripcio_marca','03.TM','04.TX','05.TN','06.HRM','07.PPT24H','08.HPA','09.RS24H','10.VVM10','11.DVM10','12.VVX10','13.DVX10'], axis=1)\n",
        "\n",
        "VariablesB = pd.DataFrame({'Variables':['Districte', 'Barri', 'Any', 'Nom_mes', 'Descripcio_causa_mediata', 'Desc_Tipus_vehicle_implicat', 'Descripcio_sexe', 'Descripcio_tipus_persona', 'Descripcio_situacio','Descripcio_victimitzacio', 'Tipus_accident',\n",
        "                                       'Descripcio_causa_vianant', 'Descripcio_color', 'Descripcio_carnet', 'Multiples vehicles implicats', 'Torn', 'Festiu']})\n",
        "\n",
        "\n",
        "Chi21=pd.DataFrame({\"Districte\":0, \"Barri\":0, \"Any\":0, \"Nom_mes\":0, \"Descripcio_causa_mediata\":0, \"Desc_Tipus_vehicle_implicat\":0, \"Descripcio_sexe\":0, \"Descripcio_tipus_persona\":0, \"Descripcio_situacio\":0, \"Descripcio_victimitzacio\":0, \"Tipus_accident\":0,\n",
        "                                       \"Descripcio_causa_vianant\":0, \"Descripcio_color\":0, \"Descripcio_carnet\":0, \"Multiples vehicles implicats\":0, \"Torn\":0, \"Festiu\":0},index =[0]) \n",
        "\n",
        "Chi23=pd.DataFrame({\"mink\":0, \"minr\":0},index =[0]) \n",
        "\n",
        "Chi2pC=pd.DataFrame({\"Districte\":0, \"Barri\":0, \"Any\":0, \"Nom_mes\":0, \"Descripcio_causa_mediata\":0, \"Desc_Tipus_vehicle_implicat\":0, \"Descripcio_sexe\":0, \"Descripcio_tipus_persona\":0, \"Descripcio_situacio\":0, \"Descripcio_victimitzacio\":0, \"Tipus_accident\":0,\n",
        "                                       \"Descripcio_causa_vianant\":0, \"Descripcio_color\":0, \"Descripcio_carnet\":0, \"Multiples vehicles implicats\":0, \"Torn\":0, \"Festiu\":0},index =[0])\n",
        "\n",
        "e1=0\n",
        "e2=0\n",
        "XX=0\n",
        "YY=0\n",
        "while e1<len(VariablesB):\n",
        "  XX=VariablesB.at[e1,\"Variables\"]\n",
        "  e2=0\n",
        "  while e2<len(VariablesB):\n",
        "    r=0; k=0; kc=0; rc=0; phi2=0\n",
        "    YY=VariablesB.at[e2,\"Variables\"]\n",
        "    k=Merge9[(XX)].unique()\n",
        "    kc=len(k) #categories variable 1\n",
        "    r=Merge9[(YY)].unique()\n",
        "    rc=len(r) #categories variable 2\n",
        "    jj=min(kc, rc)\n",
        "    Chi21.at[e1,YY]=np.sqrt(((Chi2.at[e1,YY]/21314)/(jj-1))) #https://en.wikipedia.org/wiki/Cram%C3%A9r%27s_V\n",
        "    e2=e2+1\n",
        "  e1=e1+1\n",
        "\n",
        "\"\"\"\n",
        "from scipy import stats\n",
        "e1=0\n",
        "e2=0\n",
        "XX=0\n",
        "YY=0\n",
        "degree_fPV = (Chi21.shape[0]-1) * (Chi21.shape[1]-1)\n",
        "while e1<len(VariablesB):\n",
        "  XX=VariablesB.at[e1,\"Variables\"]\n",
        "  e2=0\n",
        "  while e2<len(VariablesB):\n",
        "    YY=VariablesB.at[e2,\"Variables\"]\n",
        "    pp=0\n",
        "    pp = stats.cramervonmises_2samp(XX, YY)\n",
        "    Chi2pC.at[e1,YY]=pp\n",
        "    e2=e2+1\n",
        "  e1=e1+1\n",
        "\"\"\"\n",
        "#representarció\n",
        "plt.figure(figsize=(15, 8))\n",
        "# define the mask to set the values in the upper triangle to True\n",
        "mask = np.triu(np.ones_like(Chi21, dtype=np.bool))\n",
        "heatmap = sns.heatmap(Chi21, mask=mask, vmin=-1, vmax=1, annot=True, cmap='BrBG')\n",
        "heatmap.set_title('Cramer', fontdict={'fontsize':15}, pad=16);\n",
        "plt.savefig('CarmenV.png', dpi=300, bbox_inches='tight')\n"
      ],
      "metadata": {
        "id": "c1fX8yCV3A5N"
      },
      "execution_count": null,
      "outputs": []
    },
    {
      "cell_type": "markdown",
      "source": [
        "# **Variables post dependència**\n",
        "Descarte de les columnes dependents o correlacionades amb altres"
      ],
      "metadata": {
        "id": "dNd2qeqSQ00N"
      }
    },
    {
      "cell_type": "code",
      "source": [
        "#Es descarten les columnes dependents o correlacionades amb altres\n",
        "Merge12=MergeEE\n",
        "Merge12 = Merge12.drop('Numero_expedient', 1)\n",
        "Merge12 = Merge12.drop('Barri', 1)\n",
        "Merge12 = Merge12.drop('Any', 1)\n",
        "Merge12 = Merge12.drop('Descripcio_tipus_persona', 1)\n",
        "Merge12 = Merge12.drop('Numero_victimes', 1)\n",
        "Merge12 = Merge12.drop('Descripcio_model', 1)\n",
        "Merge12 = Merge12.drop('Descripcio_marca', 1)\n",
        "Merge12 = Merge12.drop('Antiguetat_carnet', 1)\n",
        "Merge12 = Merge12.drop('Multiples vehicles implicats', 1)\n",
        "Merge12 = Merge12.drop('04.TX', 1)\n",
        "Merge12 = Merge12.drop('05.TN', 1)\n",
        "Merge12 = Merge12.drop('12.VVX10', 1)\n",
        "Merge12 = Merge12.drop('13.DVX10', 1)\n",
        "\n",
        "#Merge12.info()\n",
        "#Merge12.describe()\n",
        "\n",
        "Merge12[\"Districte\"] = Merge12[\"Districte\"].str.replace(\"Desconegut\", \"Districte desconegut\")\n",
        "Merge12[\"Tipus_accident\"] = Merge12[\"Tipus_accident\"].str.replace(\"Desconegut\", \"Tipus accident desconegut\")\n",
        "Merge12[\"Descripcio_color\"] = Merge12[\"Descripcio_color\"].str.replace(\"Desconegut\", \"Color desconegut\")\n",
        "Merge12[\"Descripcio_carnet\"] = Merge12[\"Descripcio_carnet\"].str.replace(\"Desconegut\", \"Carnet desconegut\")\n",
        "Merge12[\"Descripcio_carnet\"] = Merge12[\"Descripcio_carnet\"].str.replace(\"Es desconeix\", \"Carnet desconegut\")\n",
        "Merge12[\"Desc_Tipus_vehicle_implicat\"] = Merge12[\"Desc_Tipus_vehicle_implicat\"].str.replace(\"Desconegut\", \"TipusV desconegut\")\n",
        "Merge12[\"Descripcio_situacio\"] = Merge12[\"Descripcio_situacio\"].str.replace(\"Desconegut\", \"Situació desconegut\")\n",
        "Merge12[\"Descripcio_situacio\"] = Merge12[\"Descripcio_situacio\"].str.replace(\"Altres\", \"Altra situació\")\n",
        "Merge12[\"Descripcio_situacio\"] = Merge12[\"Descripcio_situacio\"].str.replace(\"En pas regulat per semàfor\", \"En pas regulat per semafor\")\n",
        "Merge12[\"Descripcio_situacio\"] = Merge12[\"Descripcio_situacio\"].str.replace(\"En pas sense senyalitzar                                                                                                                              \", \"En pas sense senyalitzar\")\n",
        "Merge12[\"Desc_Tipus_vehicle_implicat\"] = Merge12[\"Desc_Tipus_vehicle_implicat\"].str.replace(\"Camió rígid  3.5 tones\", \"Camio\")\n",
        "Merge12[\"Desc_Tipus_vehicle_implicat\"] = Merge12[\"Desc_Tipus_vehicle_implicat\"].str.replace(\"Camió rígid3.5 tones\", \"Camio\")\n",
        "Merge12[\"Desc_Tipus_vehicle_implicat\"] = Merge12[\"Desc_Tipus_vehicle_implicat\"].str.replace(\"Microbús  17\", \"Microbús\")\n",
        "Merge12[\"Desc_Tipus_vehicle_implicat\"] = Merge12[\"Desc_Tipus_vehicle_implicat\"].str.replace(\"Microbús17\", \"Microbús\")\n",
        "Merge12[\"Desc_Tipus_vehicle_implicat\"] = Merge12[\"Desc_Tipus_vehicle_implicat\"].str.replace(\"Maquinŕria d'obres i serveis\", \"Maquinària d'obres i serveis\")\n",
        "#Merge12 = Merge12.drop('Unnamed: 0', 1)\n",
        "\n",
        "Merge12 = Merge12[Merge12.Descripcio_sexe != 'Sexe desconegut']\n",
        "#Merge12=Merge12.reset_index()\n",
        "#Merge12 = Merge12.drop('index', 1)\n",
        "\n",
        "Merge12 = Merge12[Merge12.Descripcio_victimitzacio != '1. Lleu']\n",
        "Merge12 = Merge12[Merge12.Descripcio_victimitzacio != '2. Assistencia']\n",
        "Merge12 = Merge12[Merge12.Descripcio_victimitzacio != '3. Hospitalitzat']\n",
        "\n",
        "Merge12=Merge12.reset_index()\n",
        "Merge12 = Merge12.drop('index', 1)"
      ],
      "metadata": {
        "id": "ysEMAUX1Q0EH"
      },
      "execution_count": null,
      "outputs": []
    },
    {
      "cell_type": "markdown",
      "source": [
        "# **Modificació de variables**"
      ],
      "metadata": {
        "id": "S9GePmcJeJtQ"
      }
    },
    {
      "cell_type": "code",
      "source": [
        "MergeEA=Merge12\n",
        "MergeEA.Edat=MergeEA.Edat.astype(int)\n",
        "MergeEA.Edat=MergeEA.Edat.round()\n",
        "MergeEA.info()\n",
        "MergeEA.Numero_morts=MergeEA.Numero_morts.astype(str)\n",
        "MergeEA.Estat_mitja=MergeEA.Estat_mitja.astype(str)\n",
        "\n",
        "#MergeEA = MergeEA.drop('Unnamed: 0', 1)\n",
        "j=0\n",
        "while j<len(MergeEA):\n",
        "  if (MergeEA.at[j,\"Edat\"]<24):\n",
        "    MergeEA.at[j,\"Edat\"]=1\n",
        "  else:\n",
        "    if (MergeEA.at[j,\"Edat\"]<32):\n",
        "      MergeEA.at[j,\"Edat\"]=2\n",
        "    else:\n",
        "      if (MergeEA.at[j,\"Edat\"]<44):\n",
        "        MergeEA.at[j,\"Edat\"]=3  \n",
        "      else:\n",
        "        if (MergeEA.at[j,\"Edat\"]<54):\n",
        "          MergeEA.at[j,\"Edat\"]=4\n",
        "        else:\n",
        "          if (MergeEA.at[j,\"Edat\"]<100):\n",
        "            MergeEA.at[j,\"Edat\"]=5\n",
        "          else:\n",
        "            MergeEA.at[j,\"Edat\"]=1000\n",
        "  j=j+1\n",
        "\n",
        "j=0\n",
        "while j<len(MergeEA):\n",
        "  if (MergeEA.at[j,\"03.TM\"]<13):\n",
        "    MergeEA.at[j,\"03.TM\"]=1\n",
        "  else:\n",
        "    if (MergeEA.at[j,\"03.TM\"]<15.6):\n",
        "      MergeEA.at[j,\"03.TM\"]=2\n",
        "    else:\n",
        "      if (MergeEA.at[j,\"03.TM\"]<25.5):\n",
        "        MergeEA.at[j,\"03.TM\"]=3\n",
        "      else:\n",
        "        MergeEA.at[j,\"03.TM\"]=4\n",
        "  j=j+1\n",
        "\n",
        "j=0\n",
        "while j<len(MergeEA):\n",
        "  if (MergeEA.at[j,\"06.HRM\"]<46):\n",
        "    MergeEA.at[j,\"06.HRM\"]=1\n",
        "  else:\n",
        "    if (MergeEA.at[j,\"06.HRM\"]<55):\n",
        "      MergeEA.at[j,\"06.HRM\"]=2\n",
        "    else:\n",
        "      if (MergeEA.at[j,\"06.HRM\"]<73):\n",
        "        MergeEA.at[j,\"06.HRM\"]=3\n",
        "      else:\n",
        "        MergeEA.at[j,\"06.HRM\"]=4\n",
        "  j=j+1\n",
        "\n",
        "j=0\n",
        "while j<len(MergeEA):\n",
        "  if (MergeEA.at[j,\"07.PPT24H\"]<0.3):\n",
        "    MergeEA.at[j,\"07.PPT24H\"]=1\n",
        "  else:\n",
        "    MergeEA.at[j,\"07.PPT24H\"]=2\n",
        "  j=j+1\n",
        "\n",
        "j=0\n",
        "while j<len(MergeEA):\n",
        "  if (MergeEA.at[j,\"08.HPA\"]<1008):\n",
        "    MergeEA.at[j,\"08.HPA\"]=1\n",
        "  else:\n",
        "    if (MergeEA.at[j,\"08.HPA\"]<1017):\n",
        "      MergeEA.at[j,\"08.HPA\"]=2\n",
        "    else:\n",
        "      MergeEA.at[j,\"08.HPA\"]=3\n",
        "  j=j+1\n",
        "\n",
        "j=0\n",
        "while j<len(MergeEA):\n",
        "  if (MergeEA.at[j,\"10.VVM10\"]<1.2):\n",
        "    MergeEA.at[j,\"10.VVM10\"]=1\n",
        "  else:\n",
        "    if (MergeEA.at[j,\"10.VVM10\"]<3):\n",
        "      MergeEA.at[j,\"10.VVM10\"]=2\n",
        "    else:\n",
        "      MergeEA.at[j,\"10.VVM10\"]=3\n",
        "  j=j+1\n",
        "\n",
        "MergeEA.Edat=MergeEA.Edat.astype(str)\n",
        "MergeEA[\"Edat\"] = MergeEA[\"Edat\"].str.replace(\"1000\", \"Edat conductor desconeguda\")\n",
        "MergeEA[\"Edat\"] = MergeEA[\"Edat\"].str.replace(\"1\", \"Grup d'edat 1\")\n",
        "MergeEA[\"Edat\"] = MergeEA[\"Edat\"].str.replace(\"2\", \"Grup d'edat 2\")\n",
        "MergeEA[\"Edat\"] = MergeEA[\"Edat\"].str.replace(\"3\", \"Grup d'edat 3\")\n",
        "MergeEA[\"Edat\"] = MergeEA[\"Edat\"].str.replace(\"4\", \"Grup d'edat 4\")\n",
        "MergeEA[\"Edat\"] = MergeEA[\"Edat\"].str.replace(\"5\", \"Grup d'edat 5\")\n",
        "\n",
        "MergeEA[\"03.TM\"]=MergeEA[\"03.TM\"].astype(str)\n",
        "MergeEA[\"03.TM\"] = MergeEA[\"03.TM\"].str.replace(\"1\", \"Grup de temperatures 1\")\n",
        "MergeEA[\"03.TM\"] = MergeEA[\"03.TM\"].str.replace(\"2\", \"Grup de temperatures 2\")\n",
        "MergeEA[\"03.TM\"] = MergeEA[\"03.TM\"].str.replace(\"3\", \"Grup de temperatures 3\")\n",
        "MergeEA[\"03.TM\"] = MergeEA[\"03.TM\"].str.replace(\"4\", \"Grup de temperatures 4\")\n",
        "\n",
        "MergeEA[\"06.HRM\"]=MergeEA[\"06.HRM\"].astype(str)\n",
        "MergeEA[\"06.HRM\"] = MergeEA[\"06.HRM\"].str.replace(\"1\", \"Grup HR 1\")\n",
        "MergeEA[\"06.HRM\"] = MergeEA[\"06.HRM\"].str.replace(\"2\", \"Grup HR 2\")\n",
        "MergeEA[\"06.HRM\"] = MergeEA[\"06.HRM\"].str.replace(\"3\", \"Grup HR 3\")\n",
        "MergeEA[\"06.HRM\"] = MergeEA[\"06.HRM\"].str.replace(\"4\", \"Grup HR 4\")\n",
        "\n",
        "MergeEA[\"07.PPT24H\"]=MergeEA[\"07.PPT24H\"].astype(str)\n",
        "MergeEA[\"07.PPT24H\"] = MergeEA[\"07.PPT24H\"].str.replace(\"1\", \"Grup precipitació 1\")\n",
        "MergeEA[\"07.PPT24H\"] = MergeEA[\"07.PPT24H\"].str.replace(\"2\", \"Grup precipitació 2\")\n",
        "\n",
        "MergeEA[\"08.HPA\"]=MergeEA[\"08.HPA\"].astype(str)\n",
        "MergeEA[\"08.HPA\"] = MergeEA[\"08.HPA\"].str.replace(\"1\", \"Grup PA 1\")\n",
        "MergeEA[\"08.HPA\"] = MergeEA[\"08.HPA\"].str.replace(\"2\", \"Grup PA 2\")\n",
        "MergeEA[\"08.HPA\"] = MergeEA[\"08.HPA\"].str.replace(\"3\", \"Grup PA 3\")\n",
        "\n",
        "MergeEA[\"10.VVM10\"]=MergeEA[\"10.VVM10\"].astype(str)\n",
        "MergeEA[\"10.VVM10\"] = MergeEA[\"10.VVM10\"].str.replace(\"1\", \"Grup VV 1\")\n",
        "MergeEA[\"10.VVM10\"] = MergeEA[\"10.VVM10\"].str.replace(\"2\", \"Grup VV 2\")\n",
        "MergeEA[\"10.VVM10\"] = MergeEA[\"10.VVM10\"].str.replace(\"3\", \"Grup VV 3\")\n",
        "\n",
        "MergeEA[\"Descripcio_situacio\"] = MergeEA[\"Descripcio_situacio\"].str.replace(\"Fora del pas\", \"1\")\n",
        "MergeEA[\"Descripcio_situacio\"] = MergeEA[\"Descripcio_situacio\"].str.replace(\"En pas regulat per semafor\", \"1\")\n",
        "MergeEA[\"Descripcio_situacio\"] = MergeEA[\"Descripcio_situacio\"].str.replace(\"En zona peatonal\", \"1\")\n",
        "MergeEA[\"Descripcio_situacio\"] = MergeEA[\"Descripcio_situacio\"].str.replace(\"En pas sense regular\", \"1\")\n",
        "MergeEA[\"Descripcio_situacio\"] = MergeEA[\"Descripcio_situacio\"].str.replace(\"A la vorera / Andana\", \"1\")\n",
        "MergeEA[\"Descripcio_situacio\"] = MergeEA[\"Descripcio_situacio\"].str.replace(\"Altra situació\", \"1\")\n",
        "MergeEA[\"Descripcio_situacio\"] = MergeEA[\"Descripcio_situacio\"].str.replace(\"En pas sense senyalitzar\", \"1\")\n",
        "\n",
        "MergeEA[\"Descripcio_situacio\"] = MergeEA[\"Descripcio_situacio\"].str.replace(\"1\", \"Altres situacions\")\n",
        "\n",
        "MergeEA[\"Tipus_accident\"] = MergeEA[\"Tipus_accident\"].str.replace(\"(més de dues rodes)\", \"\")\n",
        "MergeEA[\"Tipus_accident\"] = MergeEA[\"Tipus_accident\"].str.replace(\"(\", \"\")\n",
        "MergeEA[\"Tipus_accident\"] = MergeEA[\"Tipus_accident\"].str.replace(\")\", \"\")\n",
        "MergeEA[\"Tipus_accident\"] = MergeEA[\"Tipus_accident\"].str.replace(\"Bolcada \", \"4\")\n",
        "\n",
        "MergeEA[\"Tipus_accident\"] = MergeEA[\"Tipus_accident\"].str.replace(\"Caiguda interior vehicle\", \"3\")\n",
        "MergeEA[\"Tipus_accident\"] = MergeEA[\"Tipus_accident\"].str.replace(\"(dues rodes)\", \"\")\n",
        "MergeEA[\"Tipus_accident\"] = MergeEA[\"Tipus_accident\"].str.replace(\"(\", \"\")\n",
        "MergeEA[\"Tipus_accident\"] = MergeEA[\"Tipus_accident\"].str.replace(\")\", \"\")\n",
        "MergeEA[\"Tipus_accident\"] = MergeEA[\"Tipus_accident\"].str.replace(\"Caiguda \", \"2\")\n",
        "\n",
        "MergeEA[\"Tipus_accident\"] = MergeEA[\"Tipus_accident\"].str.replace(\"Bolcada (més de dues rodes)\", \"4\")\n",
        "MergeEA[\"Tipus_accident\"] = MergeEA[\"Tipus_accident\"].str.replace(\"Xoc contra element estàtic\", \"3\")\n",
        "MergeEA[\"Tipus_accident\"] = MergeEA[\"Tipus_accident\"].str.replace(\"Col.lisió fronto-lateral\", \"1\")\n",
        "MergeEA[\"Tipus_accident\"] = MergeEA[\"Tipus_accident\"].str.replace(\"Caiguda (dues rodes)\", \"2\")\n",
        "MergeEA[\"Tipus_accident\"] = MergeEA[\"Tipus_accident\"].str.replace(\"Col.lisió lateral\", \"1\")\n",
        "MergeEA[\"Tipus_accident\"] = MergeEA[\"Tipus_accident\"].str.replace(\"Abast multiple\", \"3\")\n",
        "MergeEA[\"Tipus_accident\"] = MergeEA[\"Tipus_accident\"].str.replace(\"Abast\", \"1\")\n",
        "MergeEA[\"Tipus_accident\"] = MergeEA[\"Tipus_accident\"].str.replace(\"Altre tipusAcc\", \"3\")\n",
        "MergeEA[\"Tipus_accident\"] = MergeEA[\"Tipus_accident\"].str.replace(\"Altres\", \"3\")\n",
        "MergeEA[\"Tipus_accident\"] = MergeEA[\"Tipus_accident\"].str.replace(\"TipusAcc desconegut\", \"4\")\n",
        "MergeEA[\"Tipus_accident\"] = MergeEA[\"Tipus_accident\"].str.replace(\"Tipus accident desconegut\", \"4\")\n",
        "MergeEA[\"Tipus_accident\"] = MergeEA[\"Tipus_accident\"].str.replace(\"Col.lisió frontal\", \"3\")\n",
        "MergeEA[\"Tipus_accident\"] = MergeEA[\"Tipus_accident\"].str.replace(\"Caiguda interior vehicle\", \"3\")\n",
        "MergeEA[\"Tipus_accident\"] = MergeEA[\"Tipus_accident\"].str.replace(\"Atropellament\", \"2\")\n",
        "MergeEA[\"Tipus_accident\"] = MergeEA[\"Tipus_accident\"].str.replace(\"Xoc amb animal a la calçada\", \"4\")\n",
        "MergeEA[\"Tipus_accident\"] = MergeEA[\"Tipus_accident\"].str.replace(\"Bolcada (més de dues rodes)\", \"4\")\n",
        "MergeEA[\"Tipus_accident\"] = MergeEA[\"Tipus_accident\"].str.replace(\"Encalç\", \"4\")\n",
        "MergeEA[\"Tipus_accident\"] = MergeEA[\"Tipus_accident\"].str.replace(\"Sortida de via amb bolcada\", \"4\")\n",
        "MergeEA[\"Tipus_accident\"] = MergeEA[\"Tipus_accident\"].str.replace(\"Sortida de via amb xoc o col.lisió\", \"4\")\n",
        "MergeEA[\"Tipus_accident\"] = MergeEA[\"Tipus_accident\"].str.replace(\"Resta sortides de via\", \"4\")\n",
        "\n",
        "MergeEA[\"Tipus_accident\"] = MergeEA[\"Tipus_accident\"].str.replace(\"1\", \"Tipus accident 1\")\n",
        "MergeEA[\"Tipus_accident\"] = MergeEA[\"Tipus_accident\"].str.replace(\"2\", \"Tipus accident 2\")\n",
        "MergeEA[\"Tipus_accident\"] = MergeEA[\"Tipus_accident\"].str.replace(\"3\", \"Tipus accident 3\")\n",
        "MergeEA[\"Tipus_accident\"] = MergeEA[\"Tipus_accident\"].str.replace(\"4\", \"Tipus accident 4\")\n",
        "\n",
        "MergeEA[\"Descripcio_color\"] = MergeEA[\"Descripcio_color\"].str.replace(\"Negre/Groc\", \"2\")\n",
        "MergeEA[\"Descripcio_color\"] = MergeEA[\"Descripcio_color\"].str.replace(\"Blanc\", \"1\")\n",
        "MergeEA[\"Descripcio_color\"] = MergeEA[\"Descripcio_color\"].str.replace(\"Gris\", \"1\")\n",
        "MergeEA[\"Descripcio_color\"] = MergeEA[\"Descripcio_color\"].str.replace(\"Negre\", \"1\")\n",
        "MergeEA[\"Descripcio_color\"] = MergeEA[\"Descripcio_color\"].str.replace(\"Color desconegut\", \"2\")\n",
        "MergeEA[\"Descripcio_color\"] = MergeEA[\"Descripcio_color\"].str.replace(\"Verd\", \"3\")\n",
        "MergeEA[\"Descripcio_color\"] = MergeEA[\"Descripcio_color\"].str.replace(\"Vermell\", \"2\")\n",
        "MergeEA[\"Descripcio_color\"] = MergeEA[\"Descripcio_color\"].str.replace(\"Blau\", \"2\")\n",
        "MergeEA[\"Descripcio_color\"] = MergeEA[\"Descripcio_color\"].str.replace(\"granate\", \"3\")\n",
        "MergeEA[\"Descripcio_color\"] = MergeEA[\"Descripcio_color\"].str.replace(\"Altre color\", \"3\")\n",
        "MergeEA[\"Descripcio_color\"] = MergeEA[\"Descripcio_color\"].str.replace(\"Altres\", \"3\")\n",
        "MergeEA[\"Descripcio_color\"] = MergeEA[\"Descripcio_color\"].str.replace(\"Groc\", \"3\")\n",
        "MergeEA[\"Descripcio_color\"] = MergeEA[\"Descripcio_color\"].str.replace(\"Platejat\", \"3\")\n",
        "MergeEA[\"Descripcio_color\"] = MergeEA[\"Descripcio_color\"].str.replace(\"Marró\", \"3\")\n",
        "MergeEA[\"Descripcio_color\"] = MergeEA[\"Descripcio_color\"].str.replace(\"Taronja\", \"3\")\n",
        "MergeEA[\"Descripcio_color\"] = MergeEA[\"Descripcio_color\"].str.replace(\"Beige\", \"3\")\n",
        "MergeEA[\"Descripcio_color\"] = MergeEA[\"Descripcio_color\"].str.replace(\"Daurat\", \"3\")\n",
        "MergeEA[\"Descripcio_color\"] = MergeEA[\"Descripcio_color\"].str.replace(\"Rosa\", \"3\")\n",
        "MergeEA[\"Descripcio_color\"] = MergeEA[\"Descripcio_color\"].str.replace(\"Violeta\", \"3\")\n",
        "\n",
        "MergeEA[\"Descripcio_color\"] = MergeEA[\"Descripcio_color\"].str.replace(\"1\", \"Tipus de color 1\")\n",
        "MergeEA[\"Descripcio_color\"] = MergeEA[\"Descripcio_color\"].str.replace(\"2\", \"Tipus de color 2\")\n",
        "MergeEA[\"Descripcio_color\"] = MergeEA[\"Descripcio_color\"].str.replace(\"3\", \"Tipus de color 3\")\n",
        "\"\"\"\n",
        "MergeEA[\"Descripcio_carnet\"] = MergeEA[\"Descripcio_carnet\"].str.replace(\"BTP\", \"3\")\n",
        "MergeEA[\"Descripcio_carnet\"] = MergeEA[\"Descripcio_carnet\"].str.replace(\"EB\", \"3\")\n",
        "MergeEA[\"Descripcio_carnet\"] = MergeEA[\"Descripcio_carnet\"].str.replace(\"E B\", \"3\")\n",
        "MergeEA[\"Descripcio_carnet\"] = MergeEA[\"Descripcio_carnet\"].str.replace(\"E D1\", \"3\")\n",
        "MergeEA[\"Descripcio_carnet\"] = MergeEA[\"Descripcio_carnet\"].str.replace(\"E C1\", \"3\")\n",
        "MergeEA[\"Descripcio_carnet\"] = MergeEA[\"Descripcio_carnet\"].str.replace(\"C1\", \"3\")\n",
        "MergeEA[\"Descripcio_carnet\"] = MergeEA[\"Descripcio_carnet\"].str.replace(\"E C\", \"3\")\n",
        "MergeEA[\"Descripcio_carnet\"] = MergeEA[\"Descripcio_carnet\"].str.replace(\"AM\", \"3\")\n",
        "MergeEA[\"Descripcio_carnet\"] = MergeEA[\"Descripcio_carnet\"].str.replace(\"A2\", \"3\")\n",
        "MergeEA[\"Descripcio_carnet\"] = MergeEA[\"Descripcio_carnet\"].str.replace(\"A1\", \"3\")\n",
        "MergeEA[\"Descripcio_carnet\"] = MergeEA[\"Descripcio_carnet\"].str.replace(\"E D\", \"3\")\n",
        "MergeEA[\"Descripcio_carnet\"] = MergeEA[\"Descripcio_carnet\"].str.replace(\"B1\", \"3\")\n",
        "MergeEA[\"Descripcio_carnet\"] = MergeEA[\"Descripcio_carnet\"].str.replace(\"Carnet desconegut\", \"3\")\n",
        "MergeEA[\"Descripcio_carnet\"] = MergeEA[\"Descripcio_carnet\"].str.replace(\"D1\", \"3\")\n",
        "\n",
        "MergeEA[\"Descripcio_carnet\"] = MergeEA[\"Descripcio_carnet\"].str.replace(\"C\", \"3\")\n",
        "MergeEA[\"Descripcio_carnet\"] = MergeEA[\"Descripcio_carnet\"].str.replace(\"D\", \"3\")\n",
        "MergeEA[\"Descripcio_carnet\"] = MergeEA[\"Descripcio_carnet\"].str.replace(\"Llicència\", \"3\")\n",
        "\n",
        "MergeEA[\"Descripcio_carnet\"] = MergeEA[\"Descripcio_carnet\"].str.replace(\"Sense permís\", \"3\")\n",
        "\n",
        "MergeEA[\"Descripcio_carnet\"] = MergeEA[\"Descripcio_carnet\"].str.replace(\"3\", \"Altres carnets\")\n",
        "\"\"\"\n",
        "\n",
        "MergeEA[\"Desc_Tipus_vehicle_implicat\"] = MergeEA[\"Desc_Tipus_vehicle_implicat\"].str.replace(\"Quadricicle < 75 cc\", \"Altres vehicles\")\n",
        "MergeEA[\"Desc_Tipus_vehicle_implicat\"] = MergeEA[\"Desc_Tipus_vehicle_implicat\"].str.replace(\"Bicicleta\", \"Altres vehicles\")\n",
        "MergeEA[\"Desc_Tipus_vehicle_implicat\"] = MergeEA[\"Desc_Tipus_vehicle_implicat\"].str.replace(\"Veh. mobilitat personal amb motor\", \"Altres vehicles\")\n",
        "MergeEA[\"Desc_Tipus_vehicle_implicat\"] = MergeEA[\"Desc_Tipus_vehicle_implicat\"].str.replace(\"Veh. mobilitat personal sense motor\", \"Altres vehicles\")\n",
        "MergeEA[\"Desc_Tipus_vehicle_implicat\"] = MergeEA[\"Desc_Tipus_vehicle_implicat\"].str.replace(\"Quadricicle  75 cc\", \"Altres vehicles\")\n",
        "\n",
        "MergeEA[\"Desc_Tipus_vehicle_implicat\"] = MergeEA[\"Desc_Tipus_vehicle_implicat\"].str.replace(\"Furgoneta\", \"Altres vehicles\")\n",
        "MergeEA[\"Desc_Tipus_vehicle_implicat\"] = MergeEA[\"Desc_Tipus_vehicle_implicat\"].str.replace(\"Taxi\", \"Altres vehicles\")\n",
        "MergeEA[\"Desc_Tipus_vehicle_implicat\"] = MergeEA[\"Desc_Tipus_vehicle_implicat\"].str.replace(\"Tot terreny\", \"Altres vehicles\")\n",
        "MergeEA[\"Desc_Tipus_vehicle_implicat\"] = MergeEA[\"Desc_Tipus_vehicle_implicat\"].str.replace(\"Pick-up\", \"Altres vehicles\")\n",
        "\n",
        "MergeEA[\"Desc_Tipus_vehicle_implicat\"] = MergeEA[\"Desc_Tipus_vehicle_implicat\"].str.replace(\"Autobús articulat\", \"Altres vehicles\")\n",
        "MergeEA[\"Desc_Tipus_vehicle_implicat\"] = MergeEA[\"Desc_Tipus_vehicle_implicat\"].str.replace(\"Autobús\", \"Altres vehicles\")\n",
        "MergeEA[\"Desc_Tipus_vehicle_implicat\"] = MergeEA[\"Desc_Tipus_vehicle_implicat\"].str.replace(\"Microbús\", \"Altres vehicles\")\n",
        "\n",
        "MergeEA[\"Desc_Tipus_vehicle_implicat\"] = MergeEA[\"Desc_Tipus_vehicle_implicat\"].str.replace(\"Autocaravana\", \"Altres vehicles\")\n",
        "MergeEA[\"Desc_Tipus_vehicle_implicat\"] = MergeEA[\"Desc_Tipus_vehicle_implicat\"].str.replace(\"Autocar\", \"Altres vehicles\")\n",
        "MergeEA[\"Desc_Tipus_vehicle_implicat\"] = MergeEA[\"Desc_Tipus_vehicle_implicat\"].str.replace(\"Microbús17\", \"Altres vehicles\")\n",
        "\n",
        "MergeEA[\"Desc_Tipus_vehicle_implicat\"] = MergeEA[\"Desc_Tipus_vehicle_implicat\"].str.replace(\"Tractor camió\", \"Altres vehicles\")\n",
        "MergeEA[\"Desc_Tipus_vehicle_implicat\"] = MergeEA[\"Desc_Tipus_vehicle_implicat\"].str.replace(\"Maquinŕria d'obres i serveis\", \"Altres vehicles\")\n",
        "MergeEA[\"Desc_Tipus_vehicle_implicat\"] = MergeEA[\"Desc_Tipus_vehicle_implicat\"].str.replace(\"Maquinària d'obres i serveis\", \"Altres vehicles\")\n",
        "\n",
        "MergeEA[\"Desc_Tipus_vehicle_implicat\"] = MergeEA[\"Desc_Tipus_vehicle_implicat\"].str.replace(\"Carro\", \"Altres vehicles\")\n",
        "MergeEA[\"Desc_Tipus_vehicle_implicat\"] = MergeEA[\"Desc_Tipus_vehicle_implicat\"].str.replace(\"Altres vehicles amb motor\", \"Altres vehicles\")\n",
        "MergeEA[\"Desc_Tipus_vehicle_implicat\"] = MergeEA[\"Desc_Tipus_vehicle_implicat\"].str.replace(\"Camio\", \"Altres vehicles\")\n",
        "MergeEA[\"Desc_Tipus_vehicle_implicat\"] = MergeEA[\"Desc_Tipus_vehicle_implicat\"].str.replace(\"Tren o tramvia\", \"Altres vehicles\")\n",
        "MergeEA[\"Desc_Tipus_vehicle_implicat\"] = MergeEA[\"Desc_Tipus_vehicle_implicat\"].str.replace(\"TipusV desconegut\", \"Altres vehicles\")\n",
        "MergeEA[\"Desc_Tipus_vehicle_implicat\"] = MergeEA[\"Desc_Tipus_vehicle_implicat\"].str.replace(\"Altres vehicles sense motor\", \"Altres vehicles\")\n",
        "\n",
        "j=0\n",
        "while j<len(MergeEA):\n",
        "  if (MergeEA.at[j,\"Numero_lesionats_lleus\"]<1):\n",
        "    MergeEA.at[j,\"Numero_lesionats_lleus\"]=1\n",
        "  else:\n",
        "    if (MergeEA.at[j,\"Numero_lesionats_lleus\"]<2):\n",
        "      MergeEA.at[j,\"Numero_lesionats_lleus\"]=2\n",
        "    else:\n",
        "      MergeEA.at[j,\"Numero_lesionats_lleus\"]=3\n",
        "  j=j+1\n",
        "\n",
        "j=0\n",
        "while j<len(MergeEA):\n",
        "  if (MergeEA.at[j,\"Numero_lesionats_greus\"]<1):\n",
        "    MergeEA.at[j,\"Numero_lesionats_greus\"]=1\n",
        "  else:\n",
        "    MergeEA.at[j,\"Numero_lesionats_greus\"]=2\n",
        "  j=j+1\n",
        "\n",
        "j=0\n",
        "while j<len(MergeEA):\n",
        "  if (MergeEA.at[j,\"Numero_vehicles_implicats\"]<2):\n",
        "    MergeEA.at[j,\"Numero_vehicles_implicats\"]=1\n",
        "  else:\n",
        "    if (MergeEA.at[j,\"Numero_vehicles_implicats\"]<3):\n",
        "      MergeEA.at[j,\"Numero_vehicles_implicats\"]=2\n",
        "    else:\n",
        "      MergeEA.at[j,\"Numero_vehicles_implicats\"]=3\n",
        "  j=j+1\n",
        "\n",
        "MergeEA.Numero_lesionats_lleus=MergeEA.Numero_lesionats_lleus.astype(str)\n",
        "MergeEA[\"Numero_lesionats_lleus\"] = MergeEA[\"Numero_lesionats_lleus\"].str.replace(\"1\", \"Cap\")\n",
        "MergeEA[\"Numero_lesionats_lleus\"] = MergeEA[\"Numero_lesionats_lleus\"].str.replace(\"2\", \"Un\")\n",
        "MergeEA[\"Numero_lesionats_lleus\"] = MergeEA[\"Numero_lesionats_lleus\"].str.replace(\"3\", \"Dos o més\")\n",
        "\n",
        "MergeEA.Numero_lesionats_greus=MergeEA.Numero_lesionats_greus.astype(str)\n",
        "MergeEA[\"Numero_lesionats_greus\"] = MergeEA[\"Numero_lesionats_greus\"].str.replace(\"1\", \"Cap\")\n",
        "MergeEA[\"Numero_lesionats_greus\"] = MergeEA[\"Numero_lesionats_greus\"].str.replace(\"2\", \"Un o més\")\n",
        "\n",
        "MergeEA.Numero_vehicles_implicats=MergeEA.Numero_vehicles_implicats.astype(str)\n",
        "MergeEA[\"Numero_vehicles_implicats\"] = MergeEA[\"Numero_vehicles_implicats\"].str.replace(\"1\", \"Un\")\n",
        "MergeEA[\"Numero_vehicles_implicats\"] = MergeEA[\"Numero_vehicles_implicats\"].str.replace(\"2\", \"Dos\")\n",
        "MergeEA[\"Numero_vehicles_implicats\"] = MergeEA[\"Numero_vehicles_implicats\"].str.replace(\"3\", \"Tres o més\")"
      ],
      "metadata": {
        "id": "QWiwcUezeHis"
      },
      "execution_count": null,
      "outputs": []
    },
    {
      "cell_type": "markdown",
      "source": [
        "# **Descartar variables**"
      ],
      "metadata": {
        "id": "JZIyknFv1nKv"
      }
    },
    {
      "cell_type": "code",
      "source": [
        "MergeEA = MergeEA.drop('Districte', 1)\n",
        "#MergeEA = MergeEA.drop('Nom_mes', 1)\n",
        "MergeEA = MergeEA.drop('Desc_Tipus_vehicle_implicat', 1)\n",
        "MergeEA = MergeEA.drop('Descripcio_causa_mediata', 1)\n",
        "MergeEA = MergeEA.drop('Descripcio_causa_vianant', 1)\n",
        "MergeEA = MergeEA.drop('08.HPA', 1)\n",
        "MergeEA = MergeEA.drop('11.DVM10', 1)\n",
        "MergeEA = MergeEA.drop('Numero_morts', 1)\n",
        "MergeEA = MergeEA.drop('Numero_lesionats_greus', 1)\n",
        "MergeEA = MergeEA.drop('Descripcio_color', 1)\n",
        "MergeEA = MergeEA.drop('Descripcio_carnet', 1)\n",
        "#MergeEA = MergeEA.drop('Numero_lesionats_lleus', 1)\n",
        "#MergeEA = MergeEA.drop('Numero_vehicles_implicats', 1)\n",
        "#MergeEA = MergeEA.drop('Festiu', 1)\n",
        "MergeEA = MergeEA.drop('07.PPT24H', 1)\n",
        "#MergeEA = MergeEA.drop('06.HRM', 1)\n",
        "MergeEA = MergeEA.drop('09.RS24H', 1)\n",
        "#MergeEA = MergeEA.drop('03.TM', 1)\n",
        "MergeEA = MergeEA.drop('10.VVM10', 1)\n",
        "#MergeEA = MergeEA.drop('Estat_mitja', 1)\n",
        "MergeEA = MergeEA.drop('Descripcio_victimitzacio', 1)\n",
        "#MergeEA = MergeEA.drop('Tipus_accident', 1)\n",
        "MergeEA = MergeEA.drop('Descripcio_situacio', 1)\n",
        "#MergeEA = MergeEA.drop('Torn', 1)\n",
        "MergeEA = MergeEA.drop('Descripcio_sexe', 1)\n",
        "#MergeEA = MergeEA.drop('Edat', 1)"
      ],
      "metadata": {
        "colab": {
          "base_uri": "https://localhost:8080/"
        },
        "id": "yT7ahBkl1lGX",
        "outputId": "8b6a236a-007e-45ab-b592-f6a96e207795"
      },
      "execution_count": null,
      "outputs": [
        {
          "output_type": "stream",
          "name": "stderr",
          "text": [
            "/usr/local/lib/python3.7/dist-packages/ipykernel_launcher.py:1: FutureWarning: In a future version of pandas all arguments of DataFrame.drop except for the argument 'labels' will be keyword-only\n",
            "  \"\"\"Entry point for launching an IPython kernel.\n",
            "/usr/local/lib/python3.7/dist-packages/ipykernel_launcher.py:3: FutureWarning: In a future version of pandas all arguments of DataFrame.drop except for the argument 'labels' will be keyword-only\n",
            "  This is separate from the ipykernel package so we can avoid doing imports until\n",
            "/usr/local/lib/python3.7/dist-packages/ipykernel_launcher.py:4: FutureWarning: In a future version of pandas all arguments of DataFrame.drop except for the argument 'labels' will be keyword-only\n",
            "  after removing the cwd from sys.path.\n",
            "/usr/local/lib/python3.7/dist-packages/ipykernel_launcher.py:5: FutureWarning: In a future version of pandas all arguments of DataFrame.drop except for the argument 'labels' will be keyword-only\n",
            "  \"\"\"\n",
            "/usr/local/lib/python3.7/dist-packages/ipykernel_launcher.py:6: FutureWarning: In a future version of pandas all arguments of DataFrame.drop except for the argument 'labels' will be keyword-only\n",
            "  \n",
            "/usr/local/lib/python3.7/dist-packages/ipykernel_launcher.py:7: FutureWarning: In a future version of pandas all arguments of DataFrame.drop except for the argument 'labels' will be keyword-only\n",
            "  import sys\n",
            "/usr/local/lib/python3.7/dist-packages/ipykernel_launcher.py:8: FutureWarning: In a future version of pandas all arguments of DataFrame.drop except for the argument 'labels' will be keyword-only\n",
            "  \n",
            "/usr/local/lib/python3.7/dist-packages/ipykernel_launcher.py:9: FutureWarning: In a future version of pandas all arguments of DataFrame.drop except for the argument 'labels' will be keyword-only\n",
            "  if __name__ == '__main__':\n",
            "/usr/local/lib/python3.7/dist-packages/ipykernel_launcher.py:10: FutureWarning: In a future version of pandas all arguments of DataFrame.drop except for the argument 'labels' will be keyword-only\n",
            "  # Remove the CWD from sys.path while we load stuff.\n",
            "/usr/local/lib/python3.7/dist-packages/ipykernel_launcher.py:11: FutureWarning: In a future version of pandas all arguments of DataFrame.drop except for the argument 'labels' will be keyword-only\n",
            "  # This is added back by InteractiveShellApp.init_path()\n",
            "/usr/local/lib/python3.7/dist-packages/ipykernel_launcher.py:15: FutureWarning: In a future version of pandas all arguments of DataFrame.drop except for the argument 'labels' will be keyword-only\n",
            "  from ipykernel import kernelapp as app\n",
            "/usr/local/lib/python3.7/dist-packages/ipykernel_launcher.py:17: FutureWarning: In a future version of pandas all arguments of DataFrame.drop except for the argument 'labels' will be keyword-only\n",
            "/usr/local/lib/python3.7/dist-packages/ipykernel_launcher.py:19: FutureWarning: In a future version of pandas all arguments of DataFrame.drop except for the argument 'labels' will be keyword-only\n",
            "/usr/local/lib/python3.7/dist-packages/ipykernel_launcher.py:21: FutureWarning: In a future version of pandas all arguments of DataFrame.drop except for the argument 'labels' will be keyword-only\n",
            "/usr/local/lib/python3.7/dist-packages/ipykernel_launcher.py:23: FutureWarning: In a future version of pandas all arguments of DataFrame.drop except for the argument 'labels' will be keyword-only\n",
            "/usr/local/lib/python3.7/dist-packages/ipykernel_launcher.py:25: FutureWarning: In a future version of pandas all arguments of DataFrame.drop except for the argument 'labels' will be keyword-only\n"
          ]
        }
      ]
    },
    {
      "cell_type": "markdown",
      "source": [
        "# **Elbow + K-Prototypes**"
      ],
      "metadata": {
        "id": "Kv_ZROJdyVZi"
      }
    },
    {
      "cell_type": "code",
      "source": [
        "!pip install umap\n",
        "!pip install kmodes\n",
        "from sklearn.cluster import KProto\n",
        "#from kmodes.kprototypes import KPrototypes\n",
        "from sklearn.preprocessing import PowerTransformer"
      ],
      "metadata": {
        "id": "QQZ-PyUmCH2Y"
      },
      "execution_count": null,
      "outputs": []
    },
    {
      "cell_type": "code",
      "source": [
        "# Choose optimal K using Elbow method\n",
        "cost = []\n",
        "kprot_data = MergeEA.copy()\n",
        "categorical_columns = [0, 1, 2, 3, 4, 6, 7, 8, 9, 10, 17] #make sure to specify correct indices  [0, 1, 2, 3, 4, 5, 6, 7, 9, 11, 12, 13\n",
        "for cluster in range(1, 12):\n",
        "    try:\n",
        "        kprototype = KPrototypes(n_jobs = -1, n_clusters = cluster, init='Cao', random_state = 0)\n",
        "        kprototype.fit_predict(kprot_data, categorical = categorical_columns)\n",
        "        cost.append(kprototype.cost_)\n",
        "        print('Cluster initiation: {}'.format(cluster))\n",
        "    except:\n",
        "        break\n"
      ],
      "metadata": {
        "id": "inM9RLpOIS2n",
        "colab": {
          "base_uri": "https://localhost:8080/"
        },
        "outputId": "d00b1be2-b82f-4594-97be-69779dec8832"
      },
      "execution_count": null,
      "outputs": [
        {
          "output_type": "stream",
          "name": "stdout",
          "text": [
            "Cluster initiation: 1\n",
            "Cluster initiation: 2\n",
            "Cluster initiation: 3\n"
          ]
        }
      ]
    },
    {
      "cell_type": "code",
      "source": [
        "#Representació del Elbow Method\n",
        "df_cost = pd.DataFrame({'Cluster':range(1, 2), 'Cost':cost})\n",
        "\n",
        "from plotnine import *\n",
        "import plotnine\n",
        "plotnine.options.figure_size = (8, 4.8)\n",
        "(\n",
        "    ggplot(data = df_cost)+\n",
        "    geom_line(aes(x = 'Cluster',\n",
        "                  y = 'Cost'))+\n",
        "    geom_point(aes(x = 'Cluster',\n",
        "                   y = 'Cost'))+\n",
        "    geom_label(aes(x = 'Cluster',\n",
        "                   y = 'Cost',\n",
        "                   label = 'Cluster'),\n",
        "               size = 10,\n",
        "               nudge_y = 1000) +\n",
        "    labs(title = 'Optimal number of cluster with Elbow Method')+\n",
        "    xlab('Number of Clusters k')+\n",
        "    ylab('Cost')+\n",
        "    theme_minimal()\n",
        ")"
      ],
      "metadata": {
        "id": "6W5Ijwq8SW8-"
      },
      "execution_count": null,
      "outputs": []
    },
    {
      "cell_type": "code",
      "source": [
        "MergeEA=pd.read_csv('/content/MergeEA.csv')\n",
        "MergeEA['Multiples vehicles implicats'] = MergeEA['Multiples vehicles implicats'].astype(object)\n",
        "MergeEA = MergeEA.drop('Unnamed: 0', 1)\n",
        "MergeEA = MergeEA.drop('cluster', 1)"
      ],
      "metadata": {
        "id": "F-nQcRmmdSIm"
      },
      "execution_count": null,
      "outputs": []
    },
    {
      "cell_type": "code",
      "source": [
        "MergeEA.info()"
      ],
      "metadata": {
        "id": "s8qxJqOhdcG_"
      },
      "execution_count": null,
      "outputs": []
    },
    {
      "cell_type": "code",
      "source": [
        "MergeEA.select_dtypes('object').nunique()"
      ],
      "metadata": {
        "id": "JKWdBJRqfD5m"
      },
      "execution_count": null,
      "outputs": []
    },
    {
      "cell_type": "code",
      "source": [
        "MergeEA.describe()"
      ],
      "metadata": {
        "id": "Ggra4VSVfRSv"
      },
      "execution_count": null,
      "outputs": []
    },
    {
      "cell_type": "code",
      "source": [
        "MergeEA.at[2,'03.TM']/2"
      ],
      "metadata": {
        "colab": {
          "base_uri": "https://localhost:8080/"
        },
        "id": "xBnG-OyQd4Nv",
        "outputId": "7a9ff98d-c86f-4b96-e95b-fc098e74e7ba"
      },
      "execution_count": null,
      "outputs": [
        {
          "output_type": "execute_result",
          "data": {
            "text/plain": [
              "9.7"
            ]
          },
          "metadata": {},
          "execution_count": 21
        }
      ]
    },
    {
      "cell_type": "code",
      "source": [
        "catColumnsPos = [MergeEA.columns.get_loc(col) for col in list(MergeEA.select_dtypes('object').columns)]\n",
        "print('Categorical columns           : {}'.format(list(MergeEA.select_dtypes('object').columns)))\n",
        "print('Categorical columns position  : {}'.format(catColumnsPos))"
      ],
      "metadata": {
        "colab": {
          "base_uri": "https://localhost:8080/"
        },
        "id": "1Zg-slcVgGoX",
        "outputId": "9b94ad0b-5ecb-41bc-c595-49d0a28f2efc"
      },
      "execution_count": null,
      "outputs": [
        {
          "output_type": "stream",
          "name": "stdout",
          "text": [
            "Categorical columns           : ['Desc_Tipus_vehicle_implicat', 'Descripcio_sexe', 'Descripcio_victimitzacio', 'Antiguetat_carnet', 'Multiples vehicles implicats', 'Numero_lesionats_lleus', 'Numero_lesionats_greus', 'Numero_vehicles_implicats', 'Torn', 'Festiu', 'Edat']\n",
            "Categorical columns position  : [0, 1, 2, 3, 4, 6, 7, 8, 9, 10, 16]\n"
          ]
        }
      ]
    },
    {
      "cell_type": "code",
      "source": [
        "# Standardizing les columnes amb valors numèrics\n",
        "Merge12b=MergeEA.copy()\n",
        "from sklearn.preprocessing import StandardScaler\n",
        "con_vars = ['Numero_morts', 'Estat_mitja', '07.PPT24H', '09.RS24H', '10.VVM10', '11.DVM10']\n",
        "scaler = StandardScaler()\n",
        "Merge12b[con_vars]=scaler.fit_transform(Merge12b[con_vars])\n",
        "\n",
        "#Merge12b.to_excel('Merge12b.xlsx')\n",
        "#Merge12b.to_csv('Merge12b.csv')"
      ],
      "metadata": {
        "id": "59H3Xkqn6uro"
      },
      "execution_count": null,
      "outputs": []
    },
    {
      "cell_type": "code",
      "source": [
        "MergeEAMatrix = Merge12b.to_numpy()\n",
        "MergeEAMatrix"
      ],
      "metadata": {
        "id": "3x73_bMKg9MC"
      },
      "execution_count": null,
      "outputs": []
    },
    {
      "cell_type": "code",
      "source": [
        "# Fit the cluster\n",
        "kprototype = KPrototypes(n_jobs = -1, n_clusters =10, init = 'Huang', random_state = 0)\n",
        "kprototype.fit_predict(MergeEAMatrix, categorical = catColumnsPos)\n",
        "MergeEA['cluster'] = kprototype.labels_"
      ],
      "metadata": {
        "id": "Lrqt4lkShSv_"
      },
      "execution_count": null,
      "outputs": []
    },
    {
      "cell_type": "code",
      "source": [
        "MergeEA.isna().sum()"
      ],
      "metadata": {
        "id": "w1aesg5Lfyq-"
      },
      "execution_count": null,
      "outputs": []
    },
    {
      "cell_type": "code",
      "source": [
        "display(MergeEA)"
      ],
      "metadata": {
        "id": "-ULJrLdaPUbU"
      },
      "execution_count": null,
      "outputs": []
    },
    {
      "cell_type": "code",
      "source": [
        "Arxiu=MergeEA\n",
        "kprot_data = Arxiu.copy()\n",
        "#Pre-processing\n",
        "for c in Arxiu.select_dtypes(exclude='object').columns:\n",
        "    pt = PowerTransformer()\n",
        "    kprot_data[c] =  pt.fit_transform(np.array(kprot_data[c]).reshape(-1, 1))\n",
        "\n",
        "categorical_columns = [0, 1, 2, 3, 4, 6, 7, 8, 9, 10, 17] #make sure to specify correct indices 0, 1, 2, 3, 4, 5, 6, 7, 8, 9, 14, 15     // 0, 1, 2, 3, 4, 5, 6, 7, 12, 13\n",
        "\n",
        "#Actual clustering\n",
        "kproto = KPrototypes(n_clusters= 6, init='Cao', n_jobs = 4)\n",
        "clusters = kproto.fit_predict(kprot_data, categorical=categorical_columns)\n",
        "\n",
        "#Prints the count of each cluster group\n",
        "pd.Series(clusters).value_counts()\n",
        "\n",
        "kprot_data.to_excel('kprot_data.xlsx')\n",
        "kprot_data.to_csv('kprot_data.csv')"
      ],
      "metadata": {
        "id": "fEIyS47_oRqq"
      },
      "execution_count": null,
      "outputs": []
    },
    {
      "cell_type": "code",
      "source": [
        "Cluster centorid\n",
        "kproto.cluster_centroids_\n",
        "\n",
        "Numero d'accidents per cluster\n",
        "pd.Series(clusters).value_counts()"
      ],
      "metadata": {
        "id": "dHkRJax5H_7N"
      },
      "execution_count": null,
      "outputs": []
    },
    {
      "cell_type": "markdown",
      "source": [
        "# **Cicle de proves**\n"
      ],
      "metadata": {
        "id": "sgpTbYS5q6fN"
      }
    },
    {
      "cell_type": "code",
      "source": [
        "MergeEA.info()"
      ],
      "metadata": {
        "id": "gi9-OpVK2wgo"
      },
      "execution_count": null,
      "outputs": []
    },
    {
      "cell_type": "code",
      "source": [
        "catColumnsPos = [MergeEA.columns.get_loc(col) for col in list(MergeEA.select_dtypes('object').columns)]\n",
        "print('Categorical columns           : {}'.format(list(MergeEA.select_dtypes('object').columns)))\n",
        "print('Categorical columns position  : {}'.format(catColumnsPos))"
      ],
      "metadata": {
        "colab": {
          "base_uri": "https://localhost:8080/"
        },
        "id": "uQnnatz94na1",
        "outputId": "9ba9ca07-96fe-4779-b0b6-451e0c436ed1"
      },
      "execution_count": null,
      "outputs": [
        {
          "output_type": "stream",
          "name": "stdout",
          "text": [
            "Categorical columns           : ['Nom_mes', 'Tipus_accident', 'Numero_lesionats_lleus', 'Numero_vehicles_implicats', 'Torn', 'Festiu', '03.TM', '06.HRM', 'Estat_mitja', 'Edat']\n",
            "Categorical columns position  : [0, 1, 2, 3, 4, 5, 6, 7, 8, 9]\n"
          ]
        }
      ]
    },
    {
      "cell_type": "code",
      "source": [
        "from kmodes.kmodes import KModes\n",
        "kmodes = KModes(7)\n",
        "kfit=kmodes.fit(MergeEA)\n",
        "labels = kfit.predict(MergeEA)\n",
        "MergeEA['cluster'] = labels"
      ],
      "metadata": {
        "id": "02jfMYtDPjIF"
      },
      "execution_count": null,
      "outputs": []
    },
    {
      "cell_type": "code",
      "source": [
        "#Creació de l'arxiu de %\n",
        "VariablesC=[]\n",
        "VariablesC = pd.DataFrame({'Variables':['Nom_mes', 'Tipus_accident', 'Numero_lesionats_lleus', 'Numero_vehicles_implicats', 'Torn', 'Festiu', '03.TM', '06.HRM', 'Estat_mitja', 'Edat'\n",
        "       ]}) \n",
        "\n",
        "Arxiu=MergeEA\n",
        "\"\"\"\n",
        "#Llista dels identificadors dels clusters\n",
        "cluster_dict=[]\n",
        "for c in clusters:\n",
        "    cluster_dict.append(c)\n",
        "    \n",
        "Arxiu['cluster']=cluster_dict\n",
        "\"\"\"\n",
        "DescriptiuC=[]\n",
        "DescriptiuC = pd.DataFrame({\"Cluster 1\":0,\"Cluster 2\":0,\"Cluster 3\":0,\"Cluster 4\":0,\"Cluster 5\":0,\"Cluster 6\":0,\"Cluster 7\":0,\"Cluster 8\":0,\"Cluster 9\":0,\"Cluster 10\":0,\n",
        "                            \"Cluster 11\":0,\"Cluster 12\":0,\"Cluster 13\":0,\"Cluster 14\":0,\"Cluster 15\":0,\"Cluster 16\":0,\"Cluster 17\":0,\"Cluster 18\":0,\"Cluster 19\":0,\"Cluster 20\":0},index =[0]) \n",
        "\n",
        "DescriptiuD=[]\n",
        "DescriptiuD = pd.DataFrame({\"Cluster 1\":0,\"Cluster 2\":0,\"Cluster 3\":0,\"Cluster 4\":0,\"Cluster 5\":0,\"Cluster 6\":0,\"Cluster 7\":0,\"Cluster 8\":0,\"Cluster 9\":0,\"Cluster 10\":0,\n",
        "                            \"Cluster 11\":0,\"Cluster 12\":0,\"Cluster 13\":0,\"Cluster 14\":0,\"Cluster 15\":0,\"Cluster 16\":0,\"Cluster 17\":0,\"Cluster 18\":0,\"Cluster 19\":0,\"Cluster 20\":0},index =[0]) \n",
        "\n",
        "Clusters = pd.DataFrame({'Clusters':['Cluster 1', 'Cluster 2', 'Cluster 3', 'Cluster 4', 'Cluster 5', 'Cluster 6', 'Cluster 7', 'Cluster 8', 'Cluster 9', 'Cluster 10', \n",
        "                                     'Cluster 11', 'Cluster 12', 'Cluster 13', 'Cluster 14', 'Cluster 15', 'Cluster 16', 'Cluster 17', 'Cluster 18', 'Cluster 19', 'Cluster 20'], 'Clusters1':['0', '1', '2', '3', '4', '5', '6', '7', '8', '9', '10', '11', '12', '13', '14', '15', '16', '17', '18', '19']})\n",
        "\n",
        "Arxiu.cluster = pd.to_numeric(Arxiu.cluster, errors='coerce')\n",
        "Arxiu['Edat']=Arxiu['Edat'].astype(str)\n",
        "#Arxiu['Numero_morts']=Arxiu['Numero_morts'].astype(str)\n",
        "#Arxiu['Numero_lesionats_lleus']=Arxiu['Numero_lesionats_lleus'].astype(str)\n",
        "#Arxiu['Numero_lesionats_greus']=Arxiu['Numero_lesionats_greus'].astype(str)\n",
        "#Arxiu['Numero_vehicles_implicats']=Arxiu['Numero_vehicles_implicats'].astype(str)\n",
        "Arxiu['03.TM']=Arxiu['03.TM'].astype(str)\n",
        "Arxiu['06.HRM']=Arxiu['06.HRM'].astype(str)\n",
        "#Arxiu['07.PPT24H']=Arxiu['07.PPT24H'].astype(str)\n",
        "#Arxiu['08.HPA']=Arxiu['08.HPA'].astype(str)\n",
        "#Arxiu['09.RS24H']=Arxiu['09.RS24H'].astype(str)\n",
        "#Arxiu['10.VVM10']=Arxiu['10.VVM10'].astype(str)\n",
        "#Arxiu['11.DVM10']=Arxiu['11.DVM10'].astype(str)\n",
        "#Arxiu['Estat_mitja']=Arxiu['Estat_mitja'].astype(str)\n",
        "\n",
        "m=0\n",
        "q=0\n",
        "while q<len(VariablesC):\n",
        "  Variable=VariablesC.at[q,\"Variables\"]\n",
        "  CategoriesB=[]\n",
        "  CategoriesB=Arxiu[(Variable)].unique()\n",
        "  i=0\n",
        "  while i<len(Clusters):\n",
        "    XX=Clusters.at[i,\"Clusters\"]\n",
        "    ZZ=pd.to_numeric(Clusters.at[i,\"Clusters1\"])\n",
        "    j=0\n",
        "    while j<len(Arxiu):\n",
        "      YY=Arxiu.at[j,Variable]\n",
        "      OO=Variable +\"//\"+ YY\n",
        "      DescriptiuC.at[OO,XX]=0\n",
        "      j=j+1\n",
        "    j=0\n",
        "    while j<len(Arxiu):\n",
        "      if (Arxiu.at[j,\"cluster\"]==ZZ):\n",
        "        YY=Arxiu.at[j,Variable]\n",
        "        OO=Variable +\"//\"+ YY\n",
        "        DescriptiuC.at[OO,XX]=DescriptiuC.at[OO,XX]+1\n",
        "      j=j+1\n",
        "    \n",
        "    ui=0\n",
        "    sum=0\n",
        "    while ui < len(CategoriesB):\n",
        "        cat=CategoriesB[ui]\n",
        "        OO=Variable +\"//\"+ cat\n",
        "        sum=DescriptiuC.at[OO,XX]+sum\n",
        "        ui=ui+1\n",
        "    ui=0\n",
        "    while ui < len(CategoriesB):\n",
        "        cat=CategoriesB[ui]\n",
        "        OO=Variable +\"//\"+ cat\n",
        "        DescriptiuD.at[OO,XX]=DescriptiuC.at[OO,XX]/sum\n",
        "        ui=ui+1\n",
        "\n",
        "    i=i+1\n",
        "  print(Variable)\n",
        "  q=q+1\n",
        "\n",
        "Arxiu.to_csv('MergeEA.csv')\n",
        "Arxiu.to_excel('MergeEA.xlsx')\n",
        "DescriptiuC.to_excel('DescriptiuC.xlsx')\n",
        "DescriptiuC.to_csv('DescriptiuC.csv')\n",
        "DescriptiuD.to_excel('DescriptiuD.xlsx')\n",
        "DescriptiuD.to_csv('DescriptiuD.csv')"
      ],
      "metadata": {
        "id": "qSqiaucARtpY"
      },
      "execution_count": null,
      "outputs": []
    },
    {
      "cell_type": "markdown",
      "source": [
        "# FAMD"
      ],
      "metadata": {
        "id": "SD_5DhXfcyN-"
      }
    },
    {
      "cell_type": "code",
      "source": [
        "import pandas as pd\n",
        "import seaborn as sns\n",
        "import numpy as np\n",
        "import matplotlib.pyplot as plt\n",
        "from sklearn.preprocessing import StandardScaler\n",
        "from sklearn.decomposition import PCA\n",
        "!pip install prince\n",
        "from prince import FAMD"
      ],
      "metadata": {
        "id": "r20qT8dtZ4n1"
      },
      "execution_count": null,
      "outputs": []
    },
    {
      "cell_type": "code",
      "source": [
        "# Standardizing les columnes amb valors numèrics\n",
        "con_vars = ['07.PPT24H', '09.RS24H', '10.VVM10', '11.DVM10', 'Estat_mitja'] \n",
        "scaler = StandardScaler()\n",
        "MergeEA[con_vars]=scaler.fit_transform(MergeEA[con_vars])\n",
        "#MergeEE.head(5)"
      ],
      "metadata": {
        "id": "sYg9c1Wf-ouH"
      },
      "execution_count": null,
      "outputs": []
    },
    {
      "cell_type": "code",
      "source": [
        "MergeEA"
      ],
      "metadata": {
        "id": "A0a-2f1BsBfs"
      },
      "execution_count": null,
      "outputs": []
    },
    {
      "cell_type": "code",
      "source": [
        "MergeEE[\"Multiples vehicles implicats\"]=MergeEE[\"Multiples vehicles implicats\"].astype(str)"
      ],
      "metadata": {
        "id": "M9yz_8rdscBJ"
      },
      "execution_count": null,
      "outputs": []
    },
    {
      "cell_type": "code",
      "source": [
        "house_df = MergeEA\n",
        "famd = FAMD(n_components =2, n_iter = 3, random_state = 101)\n",
        "\n",
        "famd.fit(house_df)\n",
        "FAMDM12=famd.transform(house_df)\n",
        "famd.plot_row_coordinates(house_df,figsize=(15, 10),color_labels=['Cluster : {}'.format(t) for t in house_df['cluster']] )"
      ],
      "metadata": {
        "id": "nVUxMcW6F6Mm"
      },
      "execution_count": null,
      "outputs": []
    },
    {
      "cell_type": "markdown",
      "source": [
        "# Silhouette"
      ],
      "metadata": {
        "id": "39dpOVd0mutS"
      }
    },
    {
      "cell_type": "code",
      "source": [
        "from sklearn.metrics import silhouette_samples, silhouette_score\n",
        "import matplotlib.pyplot as plt\n",
        "import matplotlib.cm as cm\n",
        "import numpy as np\n",
        "\n",
        "range_n_clusters = [2, 3, 4, 5, 6, 7, 8, 9, 10,11,12] #, 4, 5, 6, 7, 8, 9, 10, 11, 12, 13, 14, 15, 16, 17, 18, 19, 20\n",
        "\n",
        "for n_clusters in range_n_clusters:\n",
        "    # Create a subplot with 1 row and 2 columns\n",
        "    fig, (ax1, ax2) = plt.subplots(1, 2)\n",
        "    fig.set_size_inches(18, 7)\n",
        "\n",
        "    # The 1st subplot is the silhouette plot\n",
        "    # The silhouette coefficient can range from -1, 1 but in this example all\n",
        "    # lie within [-0.1, 1]\n",
        "    ax1.set_xlim([-0.1, 1])\n",
        "    # The (n_clusters+1)*10 is for inserting blank space between silhouette\n",
        "    # plots of individual clusters, to demarcate them clearly.\n",
        "    ax1.set_ylim([0, len(Merge12Norm) + (n_clusters + 1) * 10])\n",
        "\n",
        "    # Initialize the clusterer with n_clusters value and a random generator\n",
        "    # seed of 10 for reproducibility.\n",
        "    clusterer = KMeans(n_clusters=n_clusters, random_state=10)\n",
        "    cluster_labels = clusterer.fit_predict(Merge12Norm)\n",
        "\n",
        "    # The silhouette_score gives the average value for all the samples.\n",
        "    # This gives a perspective into the density and separation of the formed\n",
        "    # clusters\n",
        "    silhouette_avg = silhouette_score(Merge12Norm, cluster_labels)\n",
        "    print(\n",
        "        \"For n_clusters =\",\n",
        "        n_clusters,\n",
        "        \"The average silhouette_score is :\",\n",
        "        silhouette_avg,\n",
        "    )\n",
        "\n",
        "    # Compute the silhouette scores for each sample\n",
        "    sample_silhouette_values = silhouette_samples(Merge12Norm, cluster_labels)\n",
        "\n",
        "    y_lower = 10\n",
        "    for i in range(n_clusters):\n",
        "        # Aggregate the silhouette scores for samples belonging to\n",
        "        # cluster i, and sort them\n",
        "        ith_cluster_silhouette_values = sample_silhouette_values[cluster_labels == i]\n",
        "\n",
        "        ith_cluster_silhouette_values.sort()\n",
        "\n",
        "        size_cluster_i = ith_cluster_silhouette_values.shape[0]\n",
        "        y_upper = y_lower + size_cluster_i\n",
        "\n",
        "        color = cm.nipy_spectral(float(i) / n_clusters)\n",
        "        ax1.fill_betweenx(\n",
        "            np.arange(y_lower, y_upper),\n",
        "            0,\n",
        "            ith_cluster_silhouette_values,\n",
        "            facecolor=color,\n",
        "            edgecolor=color,\n",
        "            alpha=0.7,\n",
        "        )\n",
        "\n",
        "        # Label the silhouette plots with their cluster numbers at the middle\n",
        "        ax1.text(-0.05, y_lower + 0.5 * size_cluster_i, str(i))\n",
        "\n",
        "        # Compute the new y_lower for next plot\n",
        "        y_lower = y_upper + 10  # 10 for the 0 samples\n",
        "\n",
        "    ax1.set_title(\"The silhouette plot for the various clusters.\")\n",
        "    ax1.set_xlabel(\"The silhouette coefficient values\")\n",
        "    ax1.set_ylabel(\"Cluster label\")\n",
        "\n",
        "    # The vertical line for average silhouette score of all the values\n",
        "    ax1.axvline(x=silhouette_avg, color=\"red\", linestyle=\"--\")\n",
        "\n",
        "    ax1.set_yticks([])  # Clear the yaxis labels / ticks\n",
        "    ax1.set_xticks([-0.1, 0, 0.2, 0.4, 0.6, 0.8, 1])\n",
        "\n",
        "    # 2nd Plot showing the actual clusters formed\n",
        "    colors = cm.nipy_spectral(cluster_labels.astype(float) / n_clusters)\n",
        "    ax2.scatter(\n",
        "        Merge12Norm.iloc[:, 0], Merge12Norm.iloc[:, 1], marker=\".\", s=30, lw=0, alpha=0.7, c=colors, edgecolor=\"k\"\n",
        "    )\n",
        "\n",
        "    # Labeling the clusters\n",
        "    centers = clusterer.cluster_centers_\n",
        "    # Draw white circles at cluster centers\n",
        "    ax2.scatter(\n",
        "        centers[:, 0],\n",
        "        centers[:, 1],\n",
        "        marker=\"o\",\n",
        "        c=\"white\",\n",
        "        alpha=1,\n",
        "        s=200,\n",
        "        edgecolor=\"k\",\n",
        "    )\n",
        "\n",
        "    for i, c in enumerate(centers):\n",
        "        ax2.scatter(c[0], c[1], marker=\"$%d$\" % i, alpha=1, s=50, edgecolor=\"k\")\n",
        "\n",
        "    ax2.set_title(\"The visualization of the clustered data.\")\n",
        "    ax2.set_xlabel(\"Feature space for the 1st feature\")\n",
        "    ax2.set_ylabel(\"Feature space for the 2nd feature\")\n",
        "\n",
        "    plt.suptitle(\n",
        "        \"Silhouette analysis for KMeans clustering on sample data with n_clusters = %d\"\n",
        "        % n_clusters,\n",
        "        fontsize=14,\n",
        "        fontweight=\"bold\"\n",
        "    )\n",
        "plt.show()"
      ],
      "metadata": {
        "id": "wBqe8rNOVz2G"
      },
      "execution_count": null,
      "outputs": []
    }
  ]
}